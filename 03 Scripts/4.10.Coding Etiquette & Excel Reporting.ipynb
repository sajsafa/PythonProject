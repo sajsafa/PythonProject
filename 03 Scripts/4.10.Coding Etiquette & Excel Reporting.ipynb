{
 "cells": [
  {
   "cell_type": "markdown",
   "id": "fe8b8dcc",
   "metadata": {},
   "source": [
    "# 4.10: Coding Etiquette & Excel Reporting\n"
   ]
  },
  {
   "cell_type": "markdown",
   "id": "954bac49",
   "metadata": {},
   "source": [
    "### Contents:\n",
    "#### Importing Libs\n",
    "#### Importing Datasets\n",
    "#### Data Security\n",
    "#### Comparing customer behavior in different geographic areas\n",
    "#### Difference in spending habits between the different U.S. regions\n",
    "#### Create an exclusion flag for low-activity customers and exclude them from the data\n",
    "#### Creating profiling variable based on age, income, certain goods, and number of dependents\n",
    "#### Aggregate the max, mean, and min variables on a customer-profile level for usage frequency and expenditure\n",
    "#### Compare customer profiles with regions and departments\n"
   ]
  },
  {
   "cell_type": "markdown",
   "id": "a040d26d",
   "metadata": {},
   "source": [
    "## Importing Libs"
   ]
  },
  {
   "cell_type": "code",
   "execution_count": 3,
   "id": "1a911fdc",
   "metadata": {},
   "outputs": [],
   "source": [
    "# Importing libraries\n",
    "import pandas as pd\n",
    "import numpy as np\n",
    "import os\n",
    "import matplotlib.pyplot as plt\n",
    "import seaborn as sns\n",
    "import scipy "
   ]
  },
  {
   "cell_type": "markdown",
   "id": "9e292b56",
   "metadata": {},
   "source": [
    "## Importing Datasets"
   ]
  },
  {
   "cell_type": "code",
   "execution_count": 6,
   "id": "57042935",
   "metadata": {},
   "outputs": [],
   "source": [
    "# Creating Path\n",
    "path = r'C:\\Users\\shyou\\3D Objects\\My Original Data Sources\\Achievement4\\March-2023 Instacart Basket Analysis'"
   ]
  },
  {
   "cell_type": "code",
   "execution_count": 7,
   "id": "2264d45c",
   "metadata": {},
   "outputs": [],
   "source": [
    "# Importing orders_products_customers_merge as ords_prods_all\n",
    "ords_prods_all = pd.read_pickle(os.path.join(path,'02 Data', 'Prepared Data', 'orders_products_customers_merge.pkl'))"
   ]
  },
  {
   "cell_type": "code",
   "execution_count": 8,
   "id": "2964946b",
   "metadata": {},
   "outputs": [],
   "source": [
    "# Importing departments_wrangled as dept_df\n",
    "dept_df = pd.read_csv(os.path.join(path,'02 Data', 'Prepared Data', 'departments_wrangled.csv'))"
   ]
  },
  {
   "cell_type": "markdown",
   "id": "b6c77091",
   "metadata": {},
   "source": [
    "## Data Security"
   ]
  },
  {
   "cell_type": "markdown",
   "id": "113c32a4",
   "metadata": {},
   "source": [
    "##### Based on the regulation of \"compliance with customer privacy\", we remove the first name and last name columns from the ords_prods_all dataset."
   ]
  },
  {
   "cell_type": "code",
   "execution_count": 9,
   "id": "4acd4ec5",
   "metadata": {},
   "outputs": [],
   "source": [
    "# Dropping columns\n",
    "ords_prods_all.drop(['first_name' , 'last_name'] , axis = 1 , inplace = True)"
   ]
  },
  {
   "cell_type": "code",
   "execution_count": 10,
   "id": "8dce424a",
   "metadata": {},
   "outputs": [
    {
     "data": {
      "text/plain": [
       "(32404859, 29)"
      ]
     },
     "execution_count": 10,
     "metadata": {},
     "output_type": "execute_result"
    }
   ],
   "source": [
    "ords_prods_all.shape"
   ]
  },
  {
   "cell_type": "code",
   "execution_count": 11,
   "id": "64ad4f40",
   "metadata": {},
   "outputs": [
    {
     "name": "stdout",
     "output_type": "stream",
     "text": [
      "<class 'pandas.core.frame.DataFrame'>\n",
      "Int64Index: 32404859 entries, 0 to 32404858\n",
      "Data columns (total 29 columns):\n",
      " #   Column                  Dtype   \n",
      "---  ------                  -----   \n",
      " 0   user_id                 int64   \n",
      " 1   gender                  object  \n",
      " 2   state                   object  \n",
      " 3   age                     int64   \n",
      " 4   date_joined             object  \n",
      " 5   num_of_dependants       int64   \n",
      " 6   fam_status              object  \n",
      " 7   income                  int64   \n",
      " 8   product_id              int64   \n",
      " 9   department_id           int64   \n",
      " 10  prices                  float64 \n",
      " 11  order_id                int64   \n",
      " 12  order_number            int64   \n",
      " 13  order_day_of_week       int64   \n",
      " 14  order_hour_of_day       int64   \n",
      " 15  days_since_prior_order  float64 \n",
      " 16  reordered               int64   \n",
      " 17  price_range_loc         object  \n",
      " 18  busiest_day             object  \n",
      " 19  busiest_days            object  \n",
      " 20  busiest_period_of_day   object  \n",
      " 21  max_order               int64   \n",
      " 22  loyalty_flag            object  \n",
      " 23  dep_mean_order          float64 \n",
      " 24  user_mean_payment       float64 \n",
      " 25  user_spender_flag       object  \n",
      " 26  user_median_order       float64 \n",
      " 27  order_frequency_flag    object  \n",
      " 28  _merge                  category\n",
      "dtypes: category(1), float64(5), int64(12), object(11)\n",
      "memory usage: 7.0+ GB\n"
     ]
    }
   ],
   "source": [
    "ords_prods_all.info()"
   ]
  },
  {
   "cell_type": "markdown",
   "id": "34c653d2",
   "metadata": {},
   "source": [
    "## Comparing customer behavior in different geographic areas"
   ]
  },
  {
   "cell_type": "code",
   "execution_count": 13,
   "id": "0f93364f",
   "metadata": {},
   "outputs": [
    {
     "data": {
      "text/plain": [
       "Pennsylvania            667082\n",
       "California              659783\n",
       "Rhode Island            656913\n",
       "Georgia                 656389\n",
       "New Mexico              654494\n",
       "Arizona                 653964\n",
       "North Carolina          651900\n",
       "Oklahoma                651739\n",
       "Alaska                  648495\n",
       "Minnesota               647825\n",
       "Massachusetts           646358\n",
       "Wyoming                 644255\n",
       "Virginia                641421\n",
       "Missouri                640732\n",
       "Texas                   640394\n",
       "Colorado                639280\n",
       "Maine                   638583\n",
       "North Dakota            638491\n",
       "Alabama                 638003\n",
       "Kansas                  637538\n",
       "Louisiana               637482\n",
       "Delaware                637024\n",
       "South Carolina          636754\n",
       "Oregon                  636425\n",
       "Arkansas                636144\n",
       "Nevada                  636139\n",
       "New York                635983\n",
       "Montana                 635265\n",
       "South Dakota            633772\n",
       "Illinois                633024\n",
       "Hawaii                  632901\n",
       "Washington              632852\n",
       "Mississippi             632675\n",
       "Kentucky                632490\n",
       "Michigan                630928\n",
       "Florida                 629027\n",
       "Ohio                    628319\n",
       "Wisconsin               628108\n",
       "New Jersey              627692\n",
       "Indiana                 627282\n",
       "Maryland                626579\n",
       "Nebraska                625813\n",
       "Iowa                    625493\n",
       "Connecticut             623022\n",
       "Tennessee               617873\n",
       "New Hampshire           615378\n",
       "District of Columbia    613695\n",
       "West Virginia           612296\n",
       "Utah                    611941\n",
       "Vermont                 611725\n",
       "Idaho                   607119\n",
       "Name: state, dtype: int64"
      ]
     },
     "execution_count": 13,
     "metadata": {},
     "output_type": "execute_result"
    }
   ],
   "source": [
    "#Checking state column\n",
    "ords_prods_all['state'].value_counts(dropna = False)"
   ]
  },
  {
   "cell_type": "code",
   "execution_count": 54,
   "id": "464e3eb6",
   "metadata": {},
   "outputs": [],
   "source": [
    "# Defining regions \n",
    "Northeast = ['Maine','New Hampshire','Vermont','Massachusetts','Rhode Island','Connecticut', 'New York','Pennsylvania','New Jersey']\n",
    "Midwest = ['Wisconsin','Michigan','Illinois','Indiana','Ohio', 'North Dakota','South Dakota','Nebraska','Kansas','Minnesota','Iowa','Missouri']\n",
    "South = ['Delaware','Maryland','District of Columbia','Virginia','West Virginia','North Carolina','South Carolina','Georgia','Florida' ,'Kentucky','Tennessee','Mississippi','Alabama' ,'Oklahoma','Texas','Arkansas','Louisiana']\n",
    "West = ['Idaho','Montana','Wyoming','Nevada','Utah','Colorado','Arizona','New Mexico','Alaska','Washington','Oregon','California','Hawaii']"
   ]
  },
  {
   "cell_type": "code",
   "execution_count": 55,
   "id": "b77cc0fa",
   "metadata": {},
   "outputs": [],
   "source": [
    "# Categorizing states and creating a new  region column\n",
    "ords_prods_all.loc[ords_prods_all['state'].isin(Northeast), 'region'] = 'Northeast'\n",
    "ords_prods_all.loc[ords_prods_all['state'].isin(Midwest), 'region'] = 'Midwest'\n",
    "ords_prods_all.loc[ords_prods_all['state'].isin(South), 'region'] = 'South'\n",
    "ords_prods_all.loc[ords_prods_all['state'].isin(West), 'region'] = 'West'"
   ]
  },
  {
   "cell_type": "code",
   "execution_count": 56,
   "id": "67f02600",
   "metadata": {},
   "outputs": [
    {
     "data": {
      "text/plain": [
       "South        10791885\n",
       "West          8292913\n",
       "Midwest       7597325\n",
       "Northeast     5722736\n",
       "Name: region, dtype: int64"
      ]
     },
     "execution_count": 56,
     "metadata": {},
     "output_type": "execute_result"
    }
   ],
   "source": [
    "ords_prods_all['region'].value_counts(dropna = False)"
   ]
  },
  {
   "cell_type": "markdown",
   "id": "75cde9d0",
   "metadata": {},
   "source": [
    "### Difference in spending habits between the different U.S. regions"
   ]
  },
  {
   "cell_type": "code",
   "execution_count": 17,
   "id": "02795c4f",
   "metadata": {},
   "outputs": [],
   "source": [
    "# Crosstab\n",
    "crosstab_spending_habit = pd.crosstab(ords_prods_all['user_spender_flag'], ords_prods_all['region'], dropna = False)"
   ]
  },
  {
   "cell_type": "code",
   "execution_count": 18,
   "id": "dfc976c7",
   "metadata": {},
   "outputs": [
    {
     "data": {
      "text/html": [
       "<div>\n",
       "<style scoped>\n",
       "    .dataframe tbody tr th:only-of-type {\n",
       "        vertical-align: middle;\n",
       "    }\n",
       "\n",
       "    .dataframe tbody tr th {\n",
       "        vertical-align: top;\n",
       "    }\n",
       "\n",
       "    .dataframe thead th {\n",
       "        text-align: right;\n",
       "    }\n",
       "</style>\n",
       "<table border=\"1\" class=\"dataframe\">\n",
       "  <thead>\n",
       "    <tr style=\"text-align: right;\">\n",
       "      <th>region</th>\n",
       "      <th>Midwest</th>\n",
       "      <th>Northeast</th>\n",
       "      <th>South</th>\n",
       "      <th>West</th>\n",
       "    </tr>\n",
       "    <tr>\n",
       "      <th>user_spender_flag</th>\n",
       "      <th></th>\n",
       "      <th></th>\n",
       "      <th></th>\n",
       "      <th></th>\n",
       "    </tr>\n",
       "  </thead>\n",
       "  <tbody>\n",
       "    <tr>\n",
       "      <th>High spender</th>\n",
       "      <td>155932</td>\n",
       "      <td>108180</td>\n",
       "      <td>209481</td>\n",
       "      <td>160271</td>\n",
       "    </tr>\n",
       "    <tr>\n",
       "      <th>Low spender</th>\n",
       "      <td>7441393</td>\n",
       "      <td>5614556</td>\n",
       "      <td>10582404</td>\n",
       "      <td>8132642</td>\n",
       "    </tr>\n",
       "  </tbody>\n",
       "</table>\n",
       "</div>"
      ],
      "text/plain": [
       "region             Midwest  Northeast     South     West\n",
       "user_spender_flag                                       \n",
       "High spender        155932     108180    209481   160271\n",
       "Low spender        7441393    5614556  10582404  8132642"
      ]
     },
     "execution_count": 18,
     "metadata": {},
     "output_type": "execute_result"
    }
   ],
   "source": [
    "crosstab_spending_habit"
   ]
  },
  {
   "cell_type": "code",
   "execution_count": 186,
   "id": "bde91993",
   "metadata": {},
   "outputs": [
    {
     "data": {
      "text/plain": [
       "<matplotlib.legend.Legend at 0x2a75afc0a00>"
      ]
     },
     "execution_count": 186,
     "metadata": {},
     "output_type": "execute_result"
    },
    {
     "data": {
      "image/png": "[encoded data removed]",
      "text/plain": [
       "<Figure size 640x480 with 1 Axes>"
      ]
     },
     "metadata": {},
     "output_type": "display_data"
    }
   ],
   "source": [
    "# crosstab_spending_habit line chart\n",
    "line_crosstab_spending_habit = crosstab_spending_habit.T.plot.line(title = 'customer spending habit based on region', ylabel = 'amount')\n",
    "plt.legend(title='customer spending habit')\n"
   ]
  },
  {
   "cell_type": "code",
   "execution_count": 213,
   "id": "337b1908",
   "metadata": {},
   "outputs": [],
   "source": [
    "# Exporting plot\n",
    "line_crosstab_spending_habit.figure.savefig(os.path.join(path, '04 Analysis','Visualizations', 'line_crosstab_spending_habit.png'))"
   ]
  },
  {
   "cell_type": "markdown",
   "id": "3120281a",
   "metadata": {},
   "source": [
    "##### No significant difference can be seen in the High spender customers in different regions, but in the Low spender customers, the south region has the highest number."
   ]
  },
  {
   "cell_type": "markdown",
   "id": "69784c11",
   "metadata": {},
   "source": [
    "## Create an exclusion flag for low-activity customers (customers with less than 5 orders) and exclude them from the data"
   ]
  },
  {
   "cell_type": "code",
   "execution_count": 58,
   "id": "8fc752cf",
   "metadata": {},
   "outputs": [],
   "source": [
    "# Creating customer_activity_flag column\n",
    "ords_prods_all.loc[ords_prods_all['max_order'] < 5 , 'customer_activity_flag'] = 'Low activity'\n",
    "ords_prods_all.loc[ords_prods_all['max_order'] >= 5 , 'customer_activity_flag'] = 'High activity'"
   ]
  },
  {
   "cell_type": "code",
   "execution_count": 59,
   "id": "eb04bd40",
   "metadata": {},
   "outputs": [
    {
     "data": {
      "text/plain": [
       "High activity    30964564\n",
       "Low activity      1440295\n",
       "Name: customer_activity_flag, dtype: int64"
      ]
     },
     "execution_count": 59,
     "metadata": {},
     "output_type": "execute_result"
    }
   ],
   "source": [
    "ords_prods_all['customer_activity_flag'].value_counts(dropna = False)"
   ]
  },
  {
   "cell_type": "code",
   "execution_count": 60,
   "id": "27cae008",
   "metadata": {},
   "outputs": [],
   "source": [
    "low_activity_df = ords_prods_all.loc[ords_prods_all['customer_activity_flag'] == 'Low activity']\n"
   ]
  },
  {
   "cell_type": "code",
   "execution_count": 67,
   "id": "69689fab",
   "metadata": {},
   "outputs": [
    {
     "data": {
      "text/plain": [
       "(1440295, 31)"
      ]
     },
     "execution_count": 67,
     "metadata": {},
     "output_type": "execute_result"
    }
   ],
   "source": [
    "low_activity_df.shape"
   ]
  },
  {
   "cell_type": "code",
   "execution_count": null,
   "id": "5b2a1b5a",
   "metadata": {},
   "outputs": [],
   "source": [
    "high_activity_df = ords_prods_all.loc[ords_prods_all['customer_activity_flag'] == 'High activity']\n"
   ]
  },
  {
   "cell_type": "code",
   "execution_count": 18,
   "id": "03a11811",
   "metadata": {},
   "outputs": [
    {
     "data": {
      "text/plain": [
       "(30964564, 30)"
      ]
     },
     "execution_count": 18,
     "metadata": {},
     "output_type": "execute_result"
    }
   ],
   "source": [
    "high_activity_df.shape"
   ]
  },
  {
   "cell_type": "code",
   "execution_count": 19,
   "id": "9e7d717f",
   "metadata": {},
   "outputs": [],
   "source": [
    "# Exporting low_activity_df\n",
    "low_activity_df.to_pickle(os.path.join(path, '02 Data','Prepared Data', 'low_activity_df.pkl'))"
   ]
  },
  {
   "cell_type": "code",
   "execution_count": 20,
   "id": "08cbf9d3",
   "metadata": {},
   "outputs": [],
   "source": [
    "# Exporting high_activity_df\n",
    "high_activity_df.to_pickle(os.path.join(path, '02 Data','Prepared Data', 'high_activity_df.pkl'))"
   ]
  },
  {
   "cell_type": "markdown",
   "id": "6f50c7ce",
   "metadata": {},
   "source": [
    "## Creating profiling variable based on age, income, certain goods, and number of dependents"
   ]
  },
  {
   "cell_type": "code",
   "execution_count": 21,
   "id": "a59eb863",
   "metadata": {},
   "outputs": [],
   "source": [
    "# Difining high_activity_df as customer_profiling_df\n",
    "customer_profiling_df = high_activity_df"
   ]
  },
  {
   "cell_type": "code",
   "execution_count": 22,
   "id": "4060c5fb",
   "metadata": {},
   "outputs": [
    {
     "data": {
      "text/plain": [
       "(30964564, 30)"
      ]
     },
     "execution_count": 22,
     "metadata": {},
     "output_type": "execute_result"
    }
   ],
   "source": [
    "customer_profiling_df.shape"
   ]
  },
  {
   "cell_type": "code",
   "execution_count": 30,
   "id": "4797c86c",
   "metadata": {},
   "outputs": [
    {
     "name": "stdout",
     "output_type": "stream",
     "text": [
      "<class 'pandas.core.frame.DataFrame'>\n",
      "Int64Index: 30964564 entries, 0 to 32404817\n",
      "Data columns (total 31 columns):\n",
      " #   Column                  Dtype   \n",
      "---  ------                  -----   \n",
      " 0   user_id                 int64   \n",
      " 1   gender                  object  \n",
      " 2   state                   object  \n",
      " 3   age                     int64   \n",
      " 4   date_joined             object  \n",
      " 5   num_of_dependants       int64   \n",
      " 6   fam_status              object  \n",
      " 7   income                  int64   \n",
      " 8   product_id              int64   \n",
      " 9   department_id           int64   \n",
      " 10  prices                  float64 \n",
      " 11  order_id                int64   \n",
      " 12  order_number            int64   \n",
      " 13  order_day_of_week       int64   \n",
      " 14  order_hour_of_day       int64   \n",
      " 15  days_since_prior_order  float64 \n",
      " 16  reordered               int64   \n",
      " 17  price_range_loc         object  \n",
      " 18  busiest_day             object  \n",
      " 19  busiest_days            object  \n",
      " 20  busiest_period_of_day   object  \n",
      " 21  max_order               int64   \n",
      " 22  loyalty_flag            object  \n",
      " 23  dep_mean_order          float64 \n",
      " 24  user_mean_payment       float64 \n",
      " 25  user_spender_flag       object  \n",
      " 26  user_median_order       float64 \n",
      " 27  order_frequency_flag    object  \n",
      " 28  _merge                  category\n",
      " 29  region                  object  \n",
      " 30  customer_activity_flag  object  \n",
      "dtypes: category(1), float64(5), int64(12), object(13)\n",
      "memory usage: 7.2+ GB\n"
     ]
    }
   ],
   "source": [
    "customer_profiling_df.info()"
   ]
  },
  {
   "cell_type": "markdown",
   "id": "6504001f",
   "metadata": {},
   "source": [
    "### Customer Age Profile"
   ]
  },
  {
   "cell_type": "code",
   "execution_count": 31,
   "id": "70d88773",
   "metadata": {},
   "outputs": [
    {
     "data": {
      "text/plain": [
       "count    3.096456e+07\n",
       "mean     4.946803e+01\n",
       "std      1.848528e+01\n",
       "min      1.800000e+01\n",
       "25%      3.300000e+01\n",
       "50%      4.900000e+01\n",
       "75%      6.500000e+01\n",
       "max      8.100000e+01\n",
       "Name: age, dtype: float64"
      ]
     },
     "execution_count": 31,
     "metadata": {},
     "output_type": "execute_result"
    }
   ],
   "source": [
    "customer_profiling_df['age'].describe()"
   ]
  },
  {
   "cell_type": "markdown",
   "id": "d2d35846",
   "metadata": {},
   "source": [
    "##### The minimum age is 18 years and the maximum is 81 years. It can be divided into three age groups: young, middle-aged, and old"
   ]
  },
  {
   "cell_type": "code",
   "execution_count": 23,
   "id": "9c68b8fd",
   "metadata": {},
   "outputs": [
    {
     "name": "stderr",
     "output_type": "stream",
     "text": [
      "C:\\Users\\shyou\\AppData\\Local\\Temp\\ipykernel_17500\\2935343501.py:2: SettingWithCopyWarning: \n",
      "A value is trying to be set on a copy of a slice from a DataFrame.\n",
      "Try using .loc[row_indexer,col_indexer] = value instead\n",
      "\n",
      "See the caveats in the documentation: https://pandas.pydata.org/pandas-docs/stable/user_guide/indexing.html#returning-a-view-versus-a-copy\n",
      "  customer_profiling_df.loc[customer_profiling_df['age'] < 39 , 'age_group_flag'] = 'Young'\n"
     ]
    }
   ],
   "source": [
    "# Categorize customers based on age \n",
    "customer_profiling_df.loc[customer_profiling_df['age'] < 39 , 'age_group_flag'] = 'Young'\n",
    "customer_profiling_df.loc[(customer_profiling_df['age'] >= 39) & (customer_profiling_df['age'] < 60 ) , 'age_group_flag'] = 'Middle aged'\n",
    "customer_profiling_df.loc[customer_profiling_df['age'] >= 60  , 'age_group_flag'] = 'Senior'\n"
   ]
  },
  {
   "cell_type": "code",
   "execution_count": 24,
   "id": "b8454cb2",
   "metadata": {},
   "outputs": [
    {
     "data": {
      "text/plain": [
       "Senior         10574504\n",
       "Middle aged    10210198\n",
       "Young          10179862\n",
       "Name: age_group_flag, dtype: int64"
      ]
     },
     "execution_count": 24,
     "metadata": {},
     "output_type": "execute_result"
    }
   ],
   "source": [
    "customer_profiling_df['age_group_flag'].value_counts(dropna = False)"
   ]
  },
  {
   "cell_type": "code",
   "execution_count": 34,
   "id": "bb3d9c3c",
   "metadata": {},
   "outputs": [],
   "source": [
    "#crosstab on age_group_flag and user_spender_flag\n",
    "crosstab_age_spender = pd.crosstab (customer_profiling_df['age_group_flag'], customer_profiling_df['user_spender_flag'], dropna = False)"
   ]
  },
  {
   "cell_type": "code",
   "execution_count": 35,
   "id": "3300f94b",
   "metadata": {},
   "outputs": [
    {
     "data": {
      "text/html": [
       "<div>\n",
       "<style scoped>\n",
       "    .dataframe tbody tr th:only-of-type {\n",
       "        vertical-align: middle;\n",
       "    }\n",
       "\n",
       "    .dataframe tbody tr th {\n",
       "        vertical-align: top;\n",
       "    }\n",
       "\n",
       "    .dataframe thead th {\n",
       "        text-align: right;\n",
       "    }\n",
       "</style>\n",
       "<table border=\"1\" class=\"dataframe\">\n",
       "  <thead>\n",
       "    <tr style=\"text-align: right;\">\n",
       "      <th>user_spender_flag</th>\n",
       "      <th>High spender</th>\n",
       "      <th>Low spender</th>\n",
       "    </tr>\n",
       "    <tr>\n",
       "      <th>age_group_flag</th>\n",
       "      <th></th>\n",
       "      <th></th>\n",
       "    </tr>\n",
       "  </thead>\n",
       "  <tbody>\n",
       "    <tr>\n",
       "      <th>Middle aged</th>\n",
       "      <td>206743</td>\n",
       "      <td>10003455</td>\n",
       "    </tr>\n",
       "    <tr>\n",
       "      <th>Senior</th>\n",
       "      <td>207039</td>\n",
       "      <td>10367465</td>\n",
       "    </tr>\n",
       "    <tr>\n",
       "      <th>Young</th>\n",
       "      <td>189502</td>\n",
       "      <td>9990360</td>\n",
       "    </tr>\n",
       "  </tbody>\n",
       "</table>\n",
       "</div>"
      ],
      "text/plain": [
       "user_spender_flag  High spender  Low spender\n",
       "age_group_flag                              \n",
       "Middle aged              206743     10003455\n",
       "Senior                   207039     10367465\n",
       "Young                    189502      9990360"
      ]
     },
     "execution_count": 35,
     "metadata": {},
     "output_type": "execute_result"
    }
   ],
   "source": [
    "crosstab_age_spender"
   ]
  },
  {
   "cell_type": "markdown",
   "id": "eafeb494",
   "metadata": {},
   "source": [
    "##### A small proportion of the Young age group is High spender. While the other two groups are more similar."
   ]
  },
  {
   "cell_type": "markdown",
   "id": "2f2646a6",
   "metadata": {},
   "source": [
    "### Customer Income Profile"
   ]
  },
  {
   "cell_type": "code",
   "execution_count": 36,
   "id": "e53d0a10",
   "metadata": {},
   "outputs": [
    {
     "data": {
      "text/plain": [
       "count    3.096456e+07\n",
       "mean     9.967587e+04\n",
       "std      4.314187e+04\n",
       "min      2.590300e+04\n",
       "25%      6.729200e+04\n",
       "50%      9.676500e+04\n",
       "75%      1.281020e+05\n",
       "max      5.939010e+05\n",
       "Name: income, dtype: float64"
      ]
     },
     "execution_count": 36,
     "metadata": {},
     "output_type": "execute_result"
    }
   ],
   "source": [
    "customer_profiling_df['income'].describe()"
   ]
  },
  {
   "cell_type": "markdown",
   "id": "ec89c0bd",
   "metadata": {},
   "source": [
    "##### The minimum income is 25903 USD, and the maximum is 593901 USD. It can be divided into three groups: Low , Middle and High"
   ]
  },
  {
   "cell_type": "code",
   "execution_count": 25,
   "id": "1840efaf",
   "metadata": {},
   "outputs": [
    {
     "name": "stderr",
     "output_type": "stream",
     "text": [
      "C:\\Users\\shyou\\AppData\\Local\\Temp\\ipykernel_17500\\2271714393.py:2: SettingWithCopyWarning: \n",
      "A value is trying to be set on a copy of a slice from a DataFrame.\n",
      "Try using .loc[row_indexer,col_indexer] = value instead\n",
      "\n",
      "See the caveats in the documentation: https://pandas.pydata.org/pandas-docs/stable/user_guide/indexing.html#returning-a-view-versus-a-copy\n",
      "  customer_profiling_df.loc[customer_profiling_df['income'] < 60000 , 'income_group_flag'] = 'Low'\n"
     ]
    }
   ],
   "source": [
    "# Categorize customers based on income\n",
    "customer_profiling_df.loc[customer_profiling_df['income'] < 60000 , 'income_group_flag'] = 'Low'\n",
    "customer_profiling_df.loc[(customer_profiling_df['income'] >= 60000) & (customer_profiling_df['income'] < 150000 ) , 'income_group_flag'] = 'Middle'\n",
    "customer_profiling_df.loc[customer_profiling_df['income'] >= 150000  , 'income_group_flag'] = 'High'\n"
   ]
  },
  {
   "cell_type": "code",
   "execution_count": 26,
   "id": "a56ed2ea",
   "metadata": {},
   "outputs": [
    {
     "data": {
      "text/plain": [
       "Middle    21266539\n",
       "Low        5802750\n",
       "High       3895275\n",
       "Name: income_group_flag, dtype: int64"
      ]
     },
     "execution_count": 26,
     "metadata": {},
     "output_type": "execute_result"
    }
   ],
   "source": [
    "customer_profiling_df['income_group_flag'].value_counts(dropna = False)"
   ]
  },
  {
   "cell_type": "code",
   "execution_count": 39,
   "id": "0f8b5cb8",
   "metadata": {},
   "outputs": [],
   "source": [
    "#crosstab on income_group_flag and region\n",
    "crosstab_income_region = pd.crosstab (customer_profiling_df['region'], customer_profiling_df['income_group_flag'], dropna = False)"
   ]
  },
  {
   "cell_type": "code",
   "execution_count": 40,
   "id": "274cbfb7",
   "metadata": {},
   "outputs": [
    {
     "data": {
      "text/html": [
       "<div>\n",
       "<style scoped>\n",
       "    .dataframe tbody tr th:only-of-type {\n",
       "        vertical-align: middle;\n",
       "    }\n",
       "\n",
       "    .dataframe tbody tr th {\n",
       "        vertical-align: top;\n",
       "    }\n",
       "\n",
       "    .dataframe thead th {\n",
       "        text-align: right;\n",
       "    }\n",
       "</style>\n",
       "<table border=\"1\" class=\"dataframe\">\n",
       "  <thead>\n",
       "    <tr style=\"text-align: right;\">\n",
       "      <th>income_group_flag</th>\n",
       "      <th>High</th>\n",
       "      <th>Low</th>\n",
       "      <th>Middle</th>\n",
       "    </tr>\n",
       "    <tr>\n",
       "      <th>region</th>\n",
       "      <th></th>\n",
       "      <th></th>\n",
       "      <th></th>\n",
       "    </tr>\n",
       "  </thead>\n",
       "  <tbody>\n",
       "    <tr>\n",
       "      <th>Midwest</th>\n",
       "      <td>917495</td>\n",
       "      <td>1341096</td>\n",
       "      <td>5002922</td>\n",
       "    </tr>\n",
       "    <tr>\n",
       "      <th>Northeast</th>\n",
       "      <td>677730</td>\n",
       "      <td>1020134</td>\n",
       "      <td>3766821</td>\n",
       "    </tr>\n",
       "    <tr>\n",
       "      <th>South</th>\n",
       "      <td>1290460</td>\n",
       "      <td>1965984</td>\n",
       "      <td>7054695</td>\n",
       "    </tr>\n",
       "    <tr>\n",
       "      <th>West</th>\n",
       "      <td>1009590</td>\n",
       "      <td>1475536</td>\n",
       "      <td>5442101</td>\n",
       "    </tr>\n",
       "  </tbody>\n",
       "</table>\n",
       "</div>"
      ],
      "text/plain": [
       "income_group_flag     High      Low   Middle\n",
       "region                                      \n",
       "Midwest             917495  1341096  5002922\n",
       "Northeast           677730  1020134  3766821\n",
       "South              1290460  1965984  7054695\n",
       "West               1009590  1475536  5442101"
      ]
     },
     "execution_count": 40,
     "metadata": {},
     "output_type": "execute_result"
    }
   ],
   "source": [
    "crosstab_income_region"
   ]
  },
  {
   "cell_type": "code",
   "execution_count": 182,
   "id": "49d11903",
   "metadata": {},
   "outputs": [
    {
     "data": {
      "text/plain": [
       "<matplotlib.legend.Legend at 0x2a75a9633a0>"
      ]
     },
     "execution_count": 182,
     "metadata": {},
     "output_type": "execute_result"
    },
    {
     "data": {
      "image/png": "[encoded data removed]",
      "text/plain": [
       "<Figure size 640x480 with 1 Axes>"
      ]
     },
     "metadata": {},
     "output_type": "display_data"
    }
   ],
   "source": [
    "bar_income_region = crosstab_income_region.plot(kind='bar', title = 'Customer distribution chart in regions based on customer income' ,  ylabel = 'amount')\n",
    "plt.legend(title='customer income level')\n"
   ]
  },
  {
   "cell_type": "markdown",
   "id": "2b830dd8",
   "metadata": {},
   "source": [
    "##### The south region has the highest figure in all three income groups "
   ]
  },
  {
   "cell_type": "markdown",
   "id": "db6d0a1d",
   "metadata": {},
   "source": [
    "### Customer Number of Dependents Profile"
   ]
  },
  {
   "cell_type": "code",
   "execution_count": 42,
   "id": "5302c563",
   "metadata": {},
   "outputs": [
    {
     "data": {
      "text/plain": [
       "count    3.096456e+07\n",
       "mean     1.501819e+00\n",
       "std      1.118896e+00\n",
       "min      0.000000e+00\n",
       "25%      1.000000e+00\n",
       "50%      2.000000e+00\n",
       "75%      3.000000e+00\n",
       "max      3.000000e+00\n",
       "Name: num_of_dependants, dtype: float64"
      ]
     },
     "execution_count": 42,
     "metadata": {},
     "output_type": "execute_result"
    }
   ],
   "source": [
    "customer_profiling_df['num_of_dependants'].describe()"
   ]
  },
  {
   "cell_type": "markdown",
   "id": "0cebaba4",
   "metadata": {},
   "source": [
    "##### The minimum number of dependents is 0, and the maximum is 3. It can be divided into three size groups: Small , Mid and Large"
   ]
  },
  {
   "cell_type": "code",
   "execution_count": 27,
   "id": "f2ece59f",
   "metadata": {},
   "outputs": [
    {
     "name": "stderr",
     "output_type": "stream",
     "text": [
      "C:\\Users\\shyou\\AppData\\Local\\Temp\\ipykernel_17500\\1888431379.py:2: SettingWithCopyWarning: \n",
      "A value is trying to be set on a copy of a slice from a DataFrame.\n",
      "Try using .loc[row_indexer,col_indexer] = value instead\n",
      "\n",
      "See the caveats in the documentation: https://pandas.pydata.org/pandas-docs/stable/user_guide/indexing.html#returning-a-view-versus-a-copy\n",
      "  customer_profiling_df.loc[customer_profiling_df['num_of_dependants'] == 0 , 'depen_group_flag'] = 'Small'\n"
     ]
    }
   ],
   "source": [
    "# Categorize customers based on family size\n",
    "customer_profiling_df.loc[customer_profiling_df['num_of_dependants'] == 0 , 'depen_group_flag'] = 'Small'\n",
    "customer_profiling_df.loc[(customer_profiling_df['num_of_dependants'] >= 1) & (customer_profiling_df['num_of_dependants'] < 3 ) , 'depen_group_flag'] = 'Mid'\n",
    "customer_profiling_df.loc[customer_profiling_df['num_of_dependants'] >= 3  , 'depen_group_flag'] = 'Large'"
   ]
  },
  {
   "cell_type": "code",
   "execution_count": 28,
   "id": "f5c39b92",
   "metadata": {},
   "outputs": [
    {
     "data": {
      "text/plain": [
       "Mid      15452367\n",
       "Large     7772516\n",
       "Small     7739681\n",
       "Name: depen_group_flag, dtype: int64"
      ]
     },
     "execution_count": 28,
     "metadata": {},
     "output_type": "execute_result"
    }
   ],
   "source": [
    "customer_profiling_df['depen_group_flag'].value_counts(dropna = False)"
   ]
  },
  {
   "cell_type": "markdown",
   "id": "3fbed8bd",
   "metadata": {},
   "source": [
    "##### Medium-sized families (between 2 and 4 people) have the largest share of customers (Almost half of the customers)."
   ]
  },
  {
   "cell_type": "markdown",
   "id": "9171e0af",
   "metadata": {},
   "source": [
    "### Customer based on Departments"
   ]
  },
  {
   "cell_type": "code",
   "execution_count": 33,
   "id": "8d0c8585",
   "metadata": {},
   "outputs": [
    {
     "name": "stdout",
     "output_type": "stream",
     "text": [
      "<class 'pandas.core.frame.DataFrame'>\n",
      "RangeIndex: 21 entries, 0 to 20\n",
      "Data columns (total 2 columns):\n",
      " #   Column         Non-Null Count  Dtype \n",
      "---  ------         --------------  ----- \n",
      " 0   department_id  21 non-null     int64 \n",
      " 1   department     21 non-null     object\n",
      "dtypes: int64(1), object(1)\n",
      "memory usage: 464.0+ bytes\n"
     ]
    }
   ],
   "source": [
    "dept_df.info()"
   ]
  },
  {
   "cell_type": "code",
   "execution_count": 34,
   "id": "5fe05c81",
   "metadata": {},
   "outputs": [],
   "source": [
    "#renaming unnamed column to department-id \n",
    "dept_df.rename(columns= {'Unnamed: 0': 'department_id'}, inplace = True)"
   ]
  },
  {
   "cell_type": "code",
   "execution_count": 35,
   "id": "1319adab",
   "metadata": {},
   "outputs": [
    {
     "data": {
      "text/html": [
       "<div>\n",
       "<style scoped>\n",
       "    .dataframe tbody tr th:only-of-type {\n",
       "        vertical-align: middle;\n",
       "    }\n",
       "\n",
       "    .dataframe tbody tr th {\n",
       "        vertical-align: top;\n",
       "    }\n",
       "\n",
       "    .dataframe thead th {\n",
       "        text-align: right;\n",
       "    }\n",
       "</style>\n",
       "<table border=\"1\" class=\"dataframe\">\n",
       "  <thead>\n",
       "    <tr style=\"text-align: right;\">\n",
       "      <th></th>\n",
       "      <th>department_id</th>\n",
       "      <th>department</th>\n",
       "    </tr>\n",
       "  </thead>\n",
       "  <tbody>\n",
       "    <tr>\n",
       "      <th>0</th>\n",
       "      <td>1</td>\n",
       "      <td>frozen</td>\n",
       "    </tr>\n",
       "    <tr>\n",
       "      <th>1</th>\n",
       "      <td>2</td>\n",
       "      <td>other</td>\n",
       "    </tr>\n",
       "    <tr>\n",
       "      <th>2</th>\n",
       "      <td>3</td>\n",
       "      <td>bakery</td>\n",
       "    </tr>\n",
       "    <tr>\n",
       "      <th>3</th>\n",
       "      <td>4</td>\n",
       "      <td>produce</td>\n",
       "    </tr>\n",
       "    <tr>\n",
       "      <th>4</th>\n",
       "      <td>5</td>\n",
       "      <td>alcohol</td>\n",
       "    </tr>\n",
       "  </tbody>\n",
       "</table>\n",
       "</div>"
      ],
      "text/plain": [
       "   department_id department\n",
       "0              1     frozen\n",
       "1              2      other\n",
       "2              3     bakery\n",
       "3              4    produce\n",
       "4              5    alcohol"
      ]
     },
     "execution_count": 35,
     "metadata": {},
     "output_type": "execute_result"
    }
   ],
   "source": [
    "dept_df.head()"
   ]
  },
  {
   "cell_type": "code",
   "execution_count": 38,
   "id": "fbbf32c2",
   "metadata": {},
   "outputs": [],
   "source": [
    "customer_profiling_df  = dept_df.merge(customer_profiling_df, on = 'department_id', indicator = False)"
   ]
  },
  {
   "cell_type": "code",
   "execution_count": 39,
   "id": "60dd5880",
   "metadata": {},
   "outputs": [
    {
     "data": {
      "text/plain": [
       "(30964564, 34)"
      ]
     },
     "execution_count": 39,
     "metadata": {},
     "output_type": "execute_result"
    }
   ],
   "source": [
    "customer_profiling_df.shape"
   ]
  },
  {
   "cell_type": "code",
   "execution_count": 40,
   "id": "81f69e3c",
   "metadata": {},
   "outputs": [],
   "source": [
    "department_order_df = customer_profiling_df['department'].value_counts(dropna = False)"
   ]
  },
  {
   "cell_type": "code",
   "execution_count": 41,
   "id": "317d92f3",
   "metadata": {},
   "outputs": [
    {
     "data": {
      "text/plain": [
       "produce            9079273\n",
       "dairy eggs         5177182\n",
       "snacks             2766406\n",
       "beverages          2571901\n",
       "frozen             2121731\n",
       "pantry             1782705\n",
       "bakery             1120828\n",
       "canned goods       1012074\n",
       "deli               1003834\n",
       "dry goods pasta     822136\n",
       "household           699857\n",
       "meat seafood        674781\n",
       "breakfast           670850\n",
       "personal care       424306\n",
       "babies              410392\n",
       "international       255991\n",
       "alcohol             144627\n",
       "pets                 93060\n",
       "missing              64768\n",
       "other                34411\n",
       "bulk                 33451\n",
       "Name: department, dtype: int64"
      ]
     },
     "execution_count": 41,
     "metadata": {},
     "output_type": "execute_result"
    }
   ],
   "source": [
    "department_order_df"
   ]
  },
  {
   "cell_type": "code",
   "execution_count": 211,
   "id": "58ddbdc6",
   "metadata": {},
   "outputs": [
    {
     "data": {
      "image/png": "[encoded data removed]",
      "text/plain": [
       "<Figure size 640x480 with 1 Axes>"
      ]
     },
     "metadata": {},
     "output_type": "display_data"
    }
   ],
   "source": [
    "bar_department_order_df = department_order_df.plot(kind='bar', title = 'Amount of orders in each department' ,  ylabel = 'amount' , xlabel = 'department')"
   ]
  },
  {
   "cell_type": "code",
   "execution_count": 214,
   "id": "b9c22459",
   "metadata": {},
   "outputs": [],
   "source": [
    "# Exporting plot\n",
    "\n",
    "bar_department_order_df.figure.savefig(os.path.join(path, '04 Analysis','Visualizations', 'bar_department_order_df.png'))"
   ]
  },
  {
   "cell_type": "markdown",
   "id": "bc2aa34a",
   "metadata": {},
   "source": [
    "##### The highest number of orders are related to the products of departments 'produce' , 'dairy eggs', and 'snacks'"
   ]
  },
  {
   "cell_type": "markdown",
   "id": "d67a633f",
   "metadata": {},
   "source": [
    "### Create profiling variable based on some certain goods"
   ]
  },
  {
   "cell_type": "code",
   "execution_count": 42,
   "id": "ed5f2d85",
   "metadata": {},
   "outputs": [],
   "source": [
    "#creating customer_babies_goog column\n",
    "\n",
    "customer_profiling_df.loc[customer_profiling_df['department'] !='babies', 'cust_babies'] = 'No'\n",
    "customer_profiling_df.loc[customer_profiling_df['department'] =='babies', 'cust_babies'] = 'Yes'"
   ]
  },
  {
   "cell_type": "code",
   "execution_count": 43,
   "id": "0d27a235",
   "metadata": {},
   "outputs": [
    {
     "data": {
      "text/plain": [
       "No     30554172\n",
       "Yes      410392\n",
       "Name: cust_babies, dtype: int64"
      ]
     },
     "execution_count": 43,
     "metadata": {},
     "output_type": "execute_result"
    }
   ],
   "source": [
    "customer_profiling_df['cust_babies'].value_counts(dropna = False)"
   ]
  },
  {
   "cell_type": "code",
   "execution_count": 212,
   "id": "5ded4909",
   "metadata": {},
   "outputs": [
    {
     "data": {
      "text/plain": [
       "Text(0.5, 1.0, 'Share of orders from the babies department from Total')"
      ]
     },
     "execution_count": 212,
     "metadata": {},
     "output_type": "execute_result"
    },
    {
     "data": {
      "image/png": "[encoded data removed]",
      "text/plain": [
       "<Figure size 640x480 with 1 Axes>"
      ]
     },
     "metadata": {},
     "output_type": "display_data"
    }
   ],
   "source": [
    "cust_babies_pie = customer_profiling_df['cust_babies'].value_counts().plot.pie(labels = ['Total orders','Babies order'], autopct=('%.2f%%'), colors = ['green', 'yellow'], label = '', explode = [0,0.1])\n",
    "cust_babies_pie.legend(title = '', loc = 'lower right')\n",
    "plt.title(\"Share of orders from the babies department from Total\", fontsize = '14')\n"
   ]
  },
  {
   "cell_type": "code",
   "execution_count": 215,
   "id": "6e32372f",
   "metadata": {},
   "outputs": [],
   "source": [
    "# Exporting plot\n",
    "\n",
    "cust_babies_pie.figure.savefig(os.path.join(path, '04 Analysis','Visualizations', 'cust_babies_pie.png'))"
   ]
  },
  {
   "cell_type": "code",
   "execution_count": 44,
   "id": "d921624f",
   "metadata": {},
   "outputs": [],
   "source": [
    "#creating customer_bakery_good column\n",
    "\n",
    "customer_profiling_df.loc[customer_profiling_df['department'] !='bakery', 'cust_bakery'] = 'No'\n",
    "customer_profiling_df.loc[customer_profiling_df['department'] =='bakery', 'cust_bakery'] = 'Yes'"
   ]
  },
  {
   "cell_type": "code",
   "execution_count": 45,
   "id": "90cbde3f",
   "metadata": {},
   "outputs": [
    {
     "data": {
      "text/plain": [
       "No     29843736\n",
       "Yes     1120828\n",
       "Name: cust_bakery, dtype: int64"
      ]
     },
     "execution_count": 45,
     "metadata": {},
     "output_type": "execute_result"
    }
   ],
   "source": [
    "customer_profiling_df['cust_bakery'].value_counts(dropna = False)"
   ]
  },
  {
   "cell_type": "code",
   "execution_count": 136,
   "id": "a51db121",
   "metadata": {},
   "outputs": [
    {
     "data": {
      "text/plain": [
       "Text(0.5, 1.0, 'Share of orders from the bakery department from Total')"
      ]
     },
     "execution_count": 136,
     "metadata": {},
     "output_type": "execute_result"
    },
    {
     "data": {
      "image/png": "[encoded data removed]",
      "text/plain": [
       "<Figure size 640x480 with 1 Axes>"
      ]
     },
     "metadata": {},
     "output_type": "display_data"
    }
   ],
   "source": [
    "cust_bakery_pie = customer_profiling_df['cust_bakery'].value_counts().plot.pie(labels = ['Total orders','Bakery order'], autopct=('%.2f%%'), colors = ['blue', 'orange'], label = '', explode = [0,0.1])\n",
    "cust_bakery_pie.legend(title = '', loc = 'lower right')\n",
    "plt.title(\"Share of orders from the bakery department from Total\", fontsize = '14')\n"
   ]
  },
  {
   "cell_type": "code",
   "execution_count": 216,
   "id": "034c3909",
   "metadata": {},
   "outputs": [],
   "source": [
    "# Exporting plot\n",
    "\n",
    "cust_bakery_pie.figure.savefig(os.path.join(path, '04 Analysis','Visualizations', 'cust_bakery_pie.png'))"
   ]
  },
  {
   "cell_type": "code",
   "execution_count": 48,
   "id": "158a9e31",
   "metadata": {},
   "outputs": [],
   "source": [
    "#creating customer_frozen_good column\n",
    "\n",
    "customer_profiling_df.loc[customer_profiling_df['department'] !='frozen', 'cust_frozen'] = 'No'\n",
    "customer_profiling_df.loc[customer_profiling_df['department'] =='frozen', 'cust_frozen'] = 'Yes'"
   ]
  },
  {
   "cell_type": "code",
   "execution_count": 49,
   "id": "97648c61",
   "metadata": {},
   "outputs": [
    {
     "data": {
      "text/plain": [
       "No     28842833\n",
       "Yes     2121731\n",
       "Name: cust_frozen, dtype: int64"
      ]
     },
     "execution_count": 49,
     "metadata": {},
     "output_type": "execute_result"
    }
   ],
   "source": [
    "customer_profiling_df['cust_frozen'].value_counts(dropna = False)"
   ]
  },
  {
   "cell_type": "code",
   "execution_count": 225,
   "id": "72c975a5",
   "metadata": {},
   "outputs": [
    {
     "data": {
      "text/plain": [
       "Text(0.5, 1.0, 'Share of orders from the frozen department from Total')"
      ]
     },
     "execution_count": 225,
     "metadata": {},
     "output_type": "execute_result"
    },
    {
     "data": {
      "image/png": "[encoded data removed]",
      "text/plain": [
       "<Figure size 640x480 with 1 Axes>"
      ]
     },
     "metadata": {},
     "output_type": "display_data"
    }
   ],
   "source": [
    "cust_frozen_pie = customer_profiling_df['cust_frozen'].value_counts().plot.pie(labels = ['Total orders','frozen order'], autopct=('%.2f%%'), colors = ['gray', 'red'], label = '', explode = [0,0.1])\n",
    "cust_frozen_pie.legend(title = '', loc = 'lower right')\n",
    "plt.title(\"Share of orders from the frozen department from Total\", fontsize = '14')"
   ]
  },
  {
   "cell_type": "code",
   "execution_count": 217,
   "id": "59f91bbb",
   "metadata": {},
   "outputs": [],
   "source": [
    "# Exporting plot\n",
    "\n",
    "cust_frozen_pie.figure.savefig(os.path.join(path, '04 Analysis','Visualizations', 'cust_frozen_pie.png'))"
   ]
  },
  {
   "cell_type": "markdown",
   "id": "a1f8549b",
   "metadata": {},
   "source": [
    "## Aggregate the max, mean, and min variables on a customer-profile level for usage frequency and expenditure"
   ]
  },
  {
   "cell_type": "code",
   "execution_count": 51,
   "id": "540f1650",
   "metadata": {},
   "outputs": [],
   "source": [
    "# Drop some unusable columns\n",
    "columns = ['_merge']\n",
    "customer_profiling_df.drop(columns, inplace=True, axis=1)"
   ]
  },
  {
   "cell_type": "code",
   "execution_count": 142,
   "id": "2e8471ac",
   "metadata": {
    "scrolled": true
   },
   "outputs": [
    {
     "name": "stdout",
     "output_type": "stream",
     "text": [
      "<class 'pandas.core.frame.DataFrame'>\n",
      "Int64Index: 30964564 entries, 0 to 30964563\n",
      "Data columns (total 37 columns):\n",
      " #   Column                  Dtype  \n",
      "---  ------                  -----  \n",
      " 0   department_id           int64  \n",
      " 1   department              object \n",
      " 2   user_id                 int64  \n",
      " 3   gender                  object \n",
      " 4   state                   object \n",
      " 5   age                     int64  \n",
      " 6   date_joined             object \n",
      " 7   num_of_dependants       int64  \n",
      " 8   fam_status              object \n",
      " 9   income                  int64  \n",
      " 10  product_id              int64  \n",
      " 11  prices                  float64\n",
      " 12  order_id                int64  \n",
      " 13  order_number            int64  \n",
      " 14  order_day_of_week       int64  \n",
      " 15  order_hour_of_day       int64  \n",
      " 16  days_since_prior_order  float64\n",
      " 17  reordered               int64  \n",
      " 18  price_range_loc         object \n",
      " 19  busiest_day             object \n",
      " 20  busiest_days            object \n",
      " 21  busiest_period_of_day   object \n",
      " 22  max_order               int64  \n",
      " 23  loyalty_flag            object \n",
      " 24  dep_mean_order          float64\n",
      " 25  user_mean_payment       float64\n",
      " 26  user_spender_flag       object \n",
      " 27  user_median_order       float64\n",
      " 28  order_frequency_flag    object \n",
      " 29  region                  object \n",
      " 30  customer_activity_flag  object \n",
      " 31  age_group_flag          object \n",
      " 32  income_group_flag       object \n",
      " 33  depen_group_flag        object \n",
      " 34  cust_babies             object \n",
      " 35  cust_bakery             object \n",
      " 36  cust_frozen             object \n",
      "dtypes: float64(5), int64(12), object(20)\n",
      "memory usage: 8.8+ GB\n"
     ]
    }
   ],
   "source": [
    "customer_profiling_df.info()"
   ]
  },
  {
   "cell_type": "code",
   "execution_count": 226,
   "id": "6c9aae9c",
   "metadata": {},
   "outputs": [
    {
     "data": {
      "text/html": [
       "<div>\n",
       "<style scoped>\n",
       "    .dataframe tbody tr th:only-of-type {\n",
       "        vertical-align: middle;\n",
       "    }\n",
       "\n",
       "    .dataframe tbody tr th {\n",
       "        vertical-align: top;\n",
       "    }\n",
       "\n",
       "    .dataframe thead th {\n",
       "        text-align: right;\n",
       "    }\n",
       "</style>\n",
       "<table border=\"1\" class=\"dataframe\">\n",
       "  <thead>\n",
       "    <tr style=\"text-align: right;\">\n",
       "      <th></th>\n",
       "      <th>department_id</th>\n",
       "      <th>department</th>\n",
       "      <th>user_id</th>\n",
       "      <th>gender</th>\n",
       "      <th>state</th>\n",
       "      <th>age</th>\n",
       "      <th>date_joined</th>\n",
       "      <th>num_of_dependants</th>\n",
       "      <th>fam_status</th>\n",
       "      <th>income</th>\n",
       "      <th>...</th>\n",
       "      <th>user_median_order</th>\n",
       "      <th>order_frequency_flag</th>\n",
       "      <th>region</th>\n",
       "      <th>customer_activity_flag</th>\n",
       "      <th>age_group_flag</th>\n",
       "      <th>income_group_flag</th>\n",
       "      <th>depen_group_flag</th>\n",
       "      <th>cust_babies</th>\n",
       "      <th>cust_bakery</th>\n",
       "      <th>cust_frozen</th>\n",
       "    </tr>\n",
       "  </thead>\n",
       "  <tbody>\n",
       "    <tr>\n",
       "      <th>0</th>\n",
       "      <td>1</td>\n",
       "      <td>frozen</td>\n",
       "      <td>33890</td>\n",
       "      <td>Female</td>\n",
       "      <td>New Mexico</td>\n",
       "      <td>36</td>\n",
       "      <td>1/1/2017</td>\n",
       "      <td>0</td>\n",
       "      <td>single</td>\n",
       "      <td>59285</td>\n",
       "      <td>...</td>\n",
       "      <td>26.0</td>\n",
       "      <td>Non-frequent customer</td>\n",
       "      <td>West</td>\n",
       "      <td>High activity</td>\n",
       "      <td>Young</td>\n",
       "      <td>Low</td>\n",
       "      <td>Small</td>\n",
       "      <td>No</td>\n",
       "      <td>No</td>\n",
       "      <td>NaN</td>\n",
       "    </tr>\n",
       "    <tr>\n",
       "      <th>1</th>\n",
       "      <td>1</td>\n",
       "      <td>frozen</td>\n",
       "      <td>33890</td>\n",
       "      <td>Female</td>\n",
       "      <td>New Mexico</td>\n",
       "      <td>36</td>\n",
       "      <td>1/1/2017</td>\n",
       "      <td>0</td>\n",
       "      <td>single</td>\n",
       "      <td>59285</td>\n",
       "      <td>...</td>\n",
       "      <td>26.0</td>\n",
       "      <td>Non-frequent customer</td>\n",
       "      <td>West</td>\n",
       "      <td>High activity</td>\n",
       "      <td>Young</td>\n",
       "      <td>Low</td>\n",
       "      <td>Small</td>\n",
       "      <td>No</td>\n",
       "      <td>No</td>\n",
       "      <td>NaN</td>\n",
       "    </tr>\n",
       "    <tr>\n",
       "      <th>2</th>\n",
       "      <td>1</td>\n",
       "      <td>frozen</td>\n",
       "      <td>65803</td>\n",
       "      <td>Male</td>\n",
       "      <td>Idaho</td>\n",
       "      <td>35</td>\n",
       "      <td>1/1/2017</td>\n",
       "      <td>2</td>\n",
       "      <td>married</td>\n",
       "      <td>99568</td>\n",
       "      <td>...</td>\n",
       "      <td>7.0</td>\n",
       "      <td>Frequent customer</td>\n",
       "      <td>West</td>\n",
       "      <td>High activity</td>\n",
       "      <td>Young</td>\n",
       "      <td>Middle</td>\n",
       "      <td>Mid</td>\n",
       "      <td>No</td>\n",
       "      <td>No</td>\n",
       "      <td>NaN</td>\n",
       "    </tr>\n",
       "    <tr>\n",
       "      <th>3</th>\n",
       "      <td>1</td>\n",
       "      <td>frozen</td>\n",
       "      <td>65803</td>\n",
       "      <td>Male</td>\n",
       "      <td>Idaho</td>\n",
       "      <td>35</td>\n",
       "      <td>1/1/2017</td>\n",
       "      <td>2</td>\n",
       "      <td>married</td>\n",
       "      <td>99568</td>\n",
       "      <td>...</td>\n",
       "      <td>7.0</td>\n",
       "      <td>Frequent customer</td>\n",
       "      <td>West</td>\n",
       "      <td>High activity</td>\n",
       "      <td>Young</td>\n",
       "      <td>Middle</td>\n",
       "      <td>Mid</td>\n",
       "      <td>No</td>\n",
       "      <td>No</td>\n",
       "      <td>NaN</td>\n",
       "    </tr>\n",
       "    <tr>\n",
       "      <th>4</th>\n",
       "      <td>1</td>\n",
       "      <td>frozen</td>\n",
       "      <td>65803</td>\n",
       "      <td>Male</td>\n",
       "      <td>Idaho</td>\n",
       "      <td>35</td>\n",
       "      <td>1/1/2017</td>\n",
       "      <td>2</td>\n",
       "      <td>married</td>\n",
       "      <td>99568</td>\n",
       "      <td>...</td>\n",
       "      <td>7.0</td>\n",
       "      <td>Frequent customer</td>\n",
       "      <td>West</td>\n",
       "      <td>High activity</td>\n",
       "      <td>Young</td>\n",
       "      <td>Middle</td>\n",
       "      <td>Mid</td>\n",
       "      <td>No</td>\n",
       "      <td>No</td>\n",
       "      <td>NaN</td>\n",
       "    </tr>\n",
       "  </tbody>\n",
       "</table>\n",
       "<p>5 rows × 37 columns</p>\n",
       "</div>"
      ],
      "text/plain": [
       "   department_id department  user_id  gender       state  age date_joined  \\\n",
       "0              1     frozen    33890  Female  New Mexico   36    1/1/2017   \n",
       "1              1     frozen    33890  Female  New Mexico   36    1/1/2017   \n",
       "2              1     frozen    65803    Male       Idaho   35    1/1/2017   \n",
       "3              1     frozen    65803    Male       Idaho   35    1/1/2017   \n",
       "4              1     frozen    65803    Male       Idaho   35    1/1/2017   \n",
       "\n",
       "   num_of_dependants fam_status  income  ...  user_median_order  \\\n",
       "0                  0     single   59285  ...               26.0   \n",
       "1                  0     single   59285  ...               26.0   \n",
       "2                  2    married   99568  ...                7.0   \n",
       "3                  2    married   99568  ...                7.0   \n",
       "4                  2    married   99568  ...                7.0   \n",
       "\n",
       "   order_frequency_flag   region  customer_activity_flag  age_group_flag  \\\n",
       "0  Non-frequent customer    West           High activity           Young   \n",
       "1  Non-frequent customer    West           High activity           Young   \n",
       "2      Frequent customer    West           High activity           Young   \n",
       "3      Frequent customer    West           High activity           Young   \n",
       "4      Frequent customer    West           High activity           Young   \n",
       "\n",
       "   income_group_flag  depen_group_flag  cust_babies cust_bakery cust_frozen  \n",
       "0                Low             Small           No          No         NaN  \n",
       "1                Low             Small           No          No         NaN  \n",
       "2             Middle               Mid           No          No         NaN  \n",
       "3             Middle               Mid           No          No         NaN  \n",
       "4             Middle               Mid           No          No         NaN  \n",
       "\n",
       "[5 rows x 37 columns]"
      ]
     },
     "execution_count": 226,
     "metadata": {},
     "output_type": "execute_result"
    }
   ],
   "source": [
    "customer_profiling_df.head()"
   ]
  },
  {
   "cell_type": "code",
   "execution_count": 147,
   "id": "925cd667",
   "metadata": {},
   "outputs": [
    {
     "data": {
      "text/html": [
       "<div>\n",
       "<style scoped>\n",
       "    .dataframe tbody tr th:only-of-type {\n",
       "        vertical-align: middle;\n",
       "    }\n",
       "\n",
       "    .dataframe tbody tr th {\n",
       "        vertical-align: top;\n",
       "    }\n",
       "\n",
       "    .dataframe thead tr th {\n",
       "        text-align: left;\n",
       "    }\n",
       "\n",
       "    .dataframe thead tr:last-of-type th {\n",
       "        text-align: right;\n",
       "    }\n",
       "</style>\n",
       "<table border=\"1\" class=\"dataframe\">\n",
       "  <thead>\n",
       "    <tr>\n",
       "      <th></th>\n",
       "      <th colspan=\"3\" halign=\"left\">prices</th>\n",
       "    </tr>\n",
       "    <tr>\n",
       "      <th></th>\n",
       "      <th>max</th>\n",
       "      <th>mean</th>\n",
       "      <th>min</th>\n",
       "    </tr>\n",
       "    <tr>\n",
       "      <th>user_spender_flag</th>\n",
       "      <th></th>\n",
       "      <th></th>\n",
       "      <th></th>\n",
       "    </tr>\n",
       "  </thead>\n",
       "  <tbody>\n",
       "    <tr>\n",
       "      <th>High spender</th>\n",
       "      <td>25.0</td>\n",
       "      <td>8.231512</td>\n",
       "      <td>1.0</td>\n",
       "    </tr>\n",
       "    <tr>\n",
       "      <th>Low spender</th>\n",
       "      <td>25.0</td>\n",
       "      <td>7.781900</td>\n",
       "      <td>1.0</td>\n",
       "    </tr>\n",
       "  </tbody>\n",
       "</table>\n",
       "</div>"
      ],
      "text/plain": [
       "                  prices               \n",
       "                     max      mean  min\n",
       "user_spender_flag                      \n",
       "High spender        25.0  8.231512  1.0\n",
       "Low spender         25.0  7.781900  1.0"
      ]
     },
     "execution_count": 147,
     "metadata": {},
     "output_type": "execute_result"
    }
   ],
   "source": [
    "# calculation of max , mean , min prices based on spending habit\n",
    "customer_profiling_df.groupby('user_spender_flag').agg({'prices':['max','mean', 'min']})"
   ]
  },
  {
   "cell_type": "code",
   "execution_count": 148,
   "id": "521e0cbb",
   "metadata": {},
   "outputs": [
    {
     "data": {
      "text/html": [
       "<div>\n",
       "<style scoped>\n",
       "    .dataframe tbody tr th:only-of-type {\n",
       "        vertical-align: middle;\n",
       "    }\n",
       "\n",
       "    .dataframe tbody tr th {\n",
       "        vertical-align: top;\n",
       "    }\n",
       "\n",
       "    .dataframe thead tr th {\n",
       "        text-align: left;\n",
       "    }\n",
       "\n",
       "    .dataframe thead tr:last-of-type th {\n",
       "        text-align: right;\n",
       "    }\n",
       "</style>\n",
       "<table border=\"1\" class=\"dataframe\">\n",
       "  <thead>\n",
       "    <tr>\n",
       "      <th></th>\n",
       "      <th colspan=\"3\" halign=\"left\">prices</th>\n",
       "    </tr>\n",
       "    <tr>\n",
       "      <th></th>\n",
       "      <th>max</th>\n",
       "      <th>mean</th>\n",
       "      <th>min</th>\n",
       "    </tr>\n",
       "    <tr>\n",
       "      <th>age_group_flag</th>\n",
       "      <th></th>\n",
       "      <th></th>\n",
       "      <th></th>\n",
       "    </tr>\n",
       "  </thead>\n",
       "  <tbody>\n",
       "    <tr>\n",
       "      <th>Middle aged</th>\n",
       "      <td>25.0</td>\n",
       "      <td>7.791381</td>\n",
       "      <td>1.0</td>\n",
       "    </tr>\n",
       "    <tr>\n",
       "      <th>Senior</th>\n",
       "      <td>25.0</td>\n",
       "      <td>7.795446</td>\n",
       "      <td>1.0</td>\n",
       "    </tr>\n",
       "    <tr>\n",
       "      <th>Young</th>\n",
       "      <td>25.0</td>\n",
       "      <td>7.784753</td>\n",
       "      <td>1.0</td>\n",
       "    </tr>\n",
       "  </tbody>\n",
       "</table>\n",
       "</div>"
      ],
      "text/plain": [
       "               prices               \n",
       "                  max      mean  min\n",
       "age_group_flag                      \n",
       "Middle aged      25.0  7.791381  1.0\n",
       "Senior           25.0  7.795446  1.0\n",
       "Young            25.0  7.784753  1.0"
      ]
     },
     "execution_count": 148,
     "metadata": {},
     "output_type": "execute_result"
    }
   ],
   "source": [
    "# calculation of max , mean , min prices based on age group\n",
    "\n",
    "customer_profiling_df.groupby('age_group_flag').agg({'prices':['max','mean', 'min']})"
   ]
  },
  {
   "cell_type": "code",
   "execution_count": 149,
   "id": "d443188a",
   "metadata": {},
   "outputs": [
    {
     "data": {
      "text/html": [
       "<div>\n",
       "<style scoped>\n",
       "    .dataframe tbody tr th:only-of-type {\n",
       "        vertical-align: middle;\n",
       "    }\n",
       "\n",
       "    .dataframe tbody tr th {\n",
       "        vertical-align: top;\n",
       "    }\n",
       "\n",
       "    .dataframe thead tr th {\n",
       "        text-align: left;\n",
       "    }\n",
       "\n",
       "    .dataframe thead tr:last-of-type th {\n",
       "        text-align: right;\n",
       "    }\n",
       "</style>\n",
       "<table border=\"1\" class=\"dataframe\">\n",
       "  <thead>\n",
       "    <tr>\n",
       "      <th></th>\n",
       "      <th colspan=\"3\" halign=\"left\">prices</th>\n",
       "    </tr>\n",
       "    <tr>\n",
       "      <th></th>\n",
       "      <th>max</th>\n",
       "      <th>mean</th>\n",
       "      <th>min</th>\n",
       "    </tr>\n",
       "    <tr>\n",
       "      <th>income_group_flag</th>\n",
       "      <th></th>\n",
       "      <th></th>\n",
       "      <th></th>\n",
       "    </tr>\n",
       "  </thead>\n",
       "  <tbody>\n",
       "    <tr>\n",
       "      <th>High</th>\n",
       "      <td>25.0</td>\n",
       "      <td>7.940758</td>\n",
       "      <td>1.0</td>\n",
       "    </tr>\n",
       "    <tr>\n",
       "      <th>Low</th>\n",
       "      <td>25.0</td>\n",
       "      <td>7.083502</td>\n",
       "      <td>1.0</td>\n",
       "    </tr>\n",
       "    <tr>\n",
       "      <th>Middle</th>\n",
       "      <td>25.0</td>\n",
       "      <td>7.956055</td>\n",
       "      <td>1.0</td>\n",
       "    </tr>\n",
       "  </tbody>\n",
       "</table>\n",
       "</div>"
      ],
      "text/plain": [
       "                  prices               \n",
       "                     max      mean  min\n",
       "income_group_flag                      \n",
       "High                25.0  7.940758  1.0\n",
       "Low                 25.0  7.083502  1.0\n",
       "Middle              25.0  7.956055  1.0"
      ]
     },
     "execution_count": 149,
     "metadata": {},
     "output_type": "execute_result"
    }
   ],
   "source": [
    "# calculation of max , mean , min prices based on income\n",
    "\n",
    "customer_profiling_df.groupby('income_group_flag').agg({'prices':['max','mean', 'min']})"
   ]
  },
  {
   "cell_type": "code",
   "execution_count": 150,
   "id": "f81b2553",
   "metadata": {},
   "outputs": [
    {
     "data": {
      "text/html": [
       "<div>\n",
       "<style scoped>\n",
       "    .dataframe tbody tr th:only-of-type {\n",
       "        vertical-align: middle;\n",
       "    }\n",
       "\n",
       "    .dataframe tbody tr th {\n",
       "        vertical-align: top;\n",
       "    }\n",
       "\n",
       "    .dataframe thead tr th {\n",
       "        text-align: left;\n",
       "    }\n",
       "\n",
       "    .dataframe thead tr:last-of-type th {\n",
       "        text-align: right;\n",
       "    }\n",
       "</style>\n",
       "<table border=\"1\" class=\"dataframe\">\n",
       "  <thead>\n",
       "    <tr>\n",
       "      <th></th>\n",
       "      <th colspan=\"3\" halign=\"left\">max_order</th>\n",
       "    </tr>\n",
       "    <tr>\n",
       "      <th></th>\n",
       "      <th>max</th>\n",
       "      <th>mean</th>\n",
       "      <th>min</th>\n",
       "    </tr>\n",
       "    <tr>\n",
       "      <th>user_spender_flag</th>\n",
       "      <th></th>\n",
       "      <th></th>\n",
       "      <th></th>\n",
       "    </tr>\n",
       "  </thead>\n",
       "  <tbody>\n",
       "    <tr>\n",
       "      <th>High spender</th>\n",
       "      <td>99</td>\n",
       "      <td>35.981276</td>\n",
       "      <td>5</td>\n",
       "    </tr>\n",
       "    <tr>\n",
       "      <th>Low spender</th>\n",
       "      <td>99</td>\n",
       "      <td>34.394778</td>\n",
       "      <td>5</td>\n",
       "    </tr>\n",
       "  </tbody>\n",
       "</table>\n",
       "</div>"
      ],
      "text/plain": [
       "                  max_order               \n",
       "                        max       mean min\n",
       "user_spender_flag                         \n",
       "High spender             99  35.981276   5\n",
       "Low spender              99  34.394778   5"
      ]
     },
     "execution_count": 150,
     "metadata": {},
     "output_type": "execute_result"
    }
   ],
   "source": [
    "# calculation of max , mean , min order based on spending habit\n",
    "\n",
    "customer_profiling_df.groupby('user_spender_flag').agg({'max_order':['max','mean', 'min']})"
   ]
  },
  {
   "cell_type": "code",
   "execution_count": 153,
   "id": "236b277b",
   "metadata": {},
   "outputs": [
    {
     "data": {
      "text/html": [
       "<div>\n",
       "<style scoped>\n",
       "    .dataframe tbody tr th:only-of-type {\n",
       "        vertical-align: middle;\n",
       "    }\n",
       "\n",
       "    .dataframe tbody tr th {\n",
       "        vertical-align: top;\n",
       "    }\n",
       "\n",
       "    .dataframe thead tr th {\n",
       "        text-align: left;\n",
       "    }\n",
       "\n",
       "    .dataframe thead tr:last-of-type th {\n",
       "        text-align: right;\n",
       "    }\n",
       "</style>\n",
       "<table border=\"1\" class=\"dataframe\">\n",
       "  <thead>\n",
       "    <tr>\n",
       "      <th></th>\n",
       "      <th colspan=\"3\" halign=\"left\">max_order</th>\n",
       "    </tr>\n",
       "    <tr>\n",
       "      <th></th>\n",
       "      <th>max</th>\n",
       "      <th>mean</th>\n",
       "      <th>min</th>\n",
       "    </tr>\n",
       "    <tr>\n",
       "      <th>age_group_flag</th>\n",
       "      <th></th>\n",
       "      <th></th>\n",
       "      <th></th>\n",
       "    </tr>\n",
       "  </thead>\n",
       "  <tbody>\n",
       "    <tr>\n",
       "      <th>Middle aged</th>\n",
       "      <td>99</td>\n",
       "      <td>34.429589</td>\n",
       "      <td>5</td>\n",
       "    </tr>\n",
       "    <tr>\n",
       "      <th>Senior</th>\n",
       "      <td>99</td>\n",
       "      <td>34.355863</td>\n",
       "      <td>5</td>\n",
       "    </tr>\n",
       "    <tr>\n",
       "      <th>Young</th>\n",
       "      <td>99</td>\n",
       "      <td>34.494306</td>\n",
       "      <td>5</td>\n",
       "    </tr>\n",
       "  </tbody>\n",
       "</table>\n",
       "</div>"
      ],
      "text/plain": [
       "               max_order               \n",
       "                     max       mean min\n",
       "age_group_flag                         \n",
       "Middle aged           99  34.429589   5\n",
       "Senior                99  34.355863   5\n",
       "Young                 99  34.494306   5"
      ]
     },
     "execution_count": 153,
     "metadata": {},
     "output_type": "execute_result"
    }
   ],
   "source": [
    "# calculation of max , mean , min order based on age group\n",
    "\n",
    "customer_profiling_df.groupby('age_group_flag').agg({'max_order':['max','mean', 'min']})"
   ]
  },
  {
   "cell_type": "code",
   "execution_count": 154,
   "id": "5b1e7a2f",
   "metadata": {},
   "outputs": [
    {
     "data": {
      "text/html": [
       "<div>\n",
       "<style scoped>\n",
       "    .dataframe tbody tr th:only-of-type {\n",
       "        vertical-align: middle;\n",
       "    }\n",
       "\n",
       "    .dataframe tbody tr th {\n",
       "        vertical-align: top;\n",
       "    }\n",
       "\n",
       "    .dataframe thead tr th {\n",
       "        text-align: left;\n",
       "    }\n",
       "\n",
       "    .dataframe thead tr:last-of-type th {\n",
       "        text-align: right;\n",
       "    }\n",
       "</style>\n",
       "<table border=\"1\" class=\"dataframe\">\n",
       "  <thead>\n",
       "    <tr>\n",
       "      <th></th>\n",
       "      <th colspan=\"3\" halign=\"left\">max_order</th>\n",
       "    </tr>\n",
       "    <tr>\n",
       "      <th></th>\n",
       "      <th>max</th>\n",
       "      <th>mean</th>\n",
       "      <th>min</th>\n",
       "    </tr>\n",
       "    <tr>\n",
       "      <th>income_group_flag</th>\n",
       "      <th></th>\n",
       "      <th></th>\n",
       "      <th></th>\n",
       "    </tr>\n",
       "  </thead>\n",
       "  <tbody>\n",
       "    <tr>\n",
       "      <th>High</th>\n",
       "      <td>99</td>\n",
       "      <td>34.845446</td>\n",
       "      <td>5</td>\n",
       "    </tr>\n",
       "    <tr>\n",
       "      <th>Low</th>\n",
       "      <td>99</td>\n",
       "      <td>33.229691</td>\n",
       "      <td>5</td>\n",
       "    </tr>\n",
       "    <tr>\n",
       "      <th>Middle</th>\n",
       "      <td>99</td>\n",
       "      <td>34.675140</td>\n",
       "      <td>5</td>\n",
       "    </tr>\n",
       "  </tbody>\n",
       "</table>\n",
       "</div>"
      ],
      "text/plain": [
       "                  max_order               \n",
       "                        max       mean min\n",
       "income_group_flag                         \n",
       "High                     99  34.845446   5\n",
       "Low                      99  33.229691   5\n",
       "Middle                   99  34.675140   5"
      ]
     },
     "execution_count": 154,
     "metadata": {},
     "output_type": "execute_result"
    }
   ],
   "source": [
    "# calculation of max , mean , min order based on income\n",
    "\n",
    "customer_profiling_df.groupby('income_group_flag').agg({'max_order':['max','mean', 'min']})"
   ]
  },
  {
   "cell_type": "markdown",
   "id": "5a9e83e6",
   "metadata": {},
   "source": [
    "## Compare customer profiles with regions and departments. "
   ]
  },
  {
   "cell_type": "code",
   "execution_count": 167,
   "id": "fe75bd06",
   "metadata": {},
   "outputs": [],
   "source": [
    "#crosstab on income_group_flag and region\n",
    "crosstab_income_region = pd.crosstab (customer_profiling_df['region'], customer_profiling_df['income_group_flag'], dropna = False)"
   ]
  },
  {
   "cell_type": "code",
   "execution_count": 174,
   "id": "d75326a2",
   "metadata": {},
   "outputs": [
    {
     "data": {
      "text/plain": [
       "<matplotlib.legend.Legend at 0x2a73433f460>"
      ]
     },
     "execution_count": 174,
     "metadata": {},
     "output_type": "execute_result"
    },
    {
     "data": {
      "image/png": "[encoded data removed]",
      "text/plain": [
       "<Figure size 640x480 with 1 Axes>"
      ]
     },
     "metadata": {},
     "output_type": "display_data"
    }
   ],
   "source": [
    "bar_income_region = crosstab_income_region.plot(kind='bar' , title = 'Customer distribution in the region based on income level' , ylabel = 'amount')\n",
    "plt.legend(title='Customer income level')\n"
   ]
  },
  {
   "cell_type": "code",
   "execution_count": 218,
   "id": "2713d30b",
   "metadata": {},
   "outputs": [],
   "source": [
    "# Exporting plot\n",
    "\n",
    "bar_income_region.figure.savefig(os.path.join(path, '04 Analysis','Visualizations', 'bar_income_region.png'))"
   ]
  },
  {
   "cell_type": "code",
   "execution_count": 169,
   "id": "ca5fa9c5",
   "metadata": {},
   "outputs": [
    {
     "data": {
      "text/html": [
       "<div>\n",
       "<style scoped>\n",
       "    .dataframe tbody tr th:only-of-type {\n",
       "        vertical-align: middle;\n",
       "    }\n",
       "\n",
       "    .dataframe tbody tr th {\n",
       "        vertical-align: top;\n",
       "    }\n",
       "\n",
       "    .dataframe thead th {\n",
       "        text-align: right;\n",
       "    }\n",
       "</style>\n",
       "<table border=\"1\" class=\"dataframe\">\n",
       "  <thead>\n",
       "    <tr style=\"text-align: right;\">\n",
       "      <th>income_group_flag</th>\n",
       "      <th>High</th>\n",
       "      <th>Low</th>\n",
       "      <th>Middle</th>\n",
       "    </tr>\n",
       "    <tr>\n",
       "      <th>region</th>\n",
       "      <th></th>\n",
       "      <th></th>\n",
       "      <th></th>\n",
       "    </tr>\n",
       "  </thead>\n",
       "  <tbody>\n",
       "    <tr>\n",
       "      <th>Midwest</th>\n",
       "      <td>917495</td>\n",
       "      <td>1341096</td>\n",
       "      <td>5002922</td>\n",
       "    </tr>\n",
       "    <tr>\n",
       "      <th>Northeast</th>\n",
       "      <td>677730</td>\n",
       "      <td>1020134</td>\n",
       "      <td>3766821</td>\n",
       "    </tr>\n",
       "    <tr>\n",
       "      <th>South</th>\n",
       "      <td>1290460</td>\n",
       "      <td>1965984</td>\n",
       "      <td>7054695</td>\n",
       "    </tr>\n",
       "    <tr>\n",
       "      <th>West</th>\n",
       "      <td>1009590</td>\n",
       "      <td>1475536</td>\n",
       "      <td>5442101</td>\n",
       "    </tr>\n",
       "  </tbody>\n",
       "</table>\n",
       "</div>"
      ],
      "text/plain": [
       "income_group_flag     High      Low   Middle\n",
       "region                                      \n",
       "Midwest             917495  1341096  5002922\n",
       "Northeast           677730  1020134  3766821\n",
       "South              1290460  1965984  7054695\n",
       "West               1009590  1475536  5442101"
      ]
     },
     "execution_count": 169,
     "metadata": {},
     "output_type": "execute_result"
    }
   ],
   "source": [
    "crosstab_income_region"
   ]
  },
  {
   "cell_type": "code",
   "execution_count": 170,
   "id": "33afe887",
   "metadata": {},
   "outputs": [],
   "source": [
    "#crosstab on age_group_flag and region\n",
    "crosstab_age_region = pd.crosstab (customer_profiling_df['region'], customer_profiling_df['age_group_flag'], dropna = False)"
   ]
  },
  {
   "cell_type": "code",
   "execution_count": 175,
   "id": "40a7ab0c",
   "metadata": {},
   "outputs": [
    {
     "data": {
      "text/plain": [
       "<matplotlib.legend.Legend at 0x2a7343970a0>"
      ]
     },
     "execution_count": 175,
     "metadata": {},
     "output_type": "execute_result"
    },
    {
     "data": {
      "image/png": "[encoded data removed]",
      "text/plain": [
       "<Figure size 640x480 with 1 Axes>"
      ]
     },
     "metadata": {},
     "output_type": "display_data"
    }
   ],
   "source": [
    "bar_age_region = crosstab_age_region.plot(kind='bar' , title = 'Customer distribution in the region based on age groups' , ylabel = 'amount')\n",
    "plt.legend(title='Customer age group')\n"
   ]
  },
  {
   "cell_type": "code",
   "execution_count": 219,
   "id": "3c8aba6e",
   "metadata": {},
   "outputs": [],
   "source": [
    "# Exporting plot\n",
    "\n",
    "bar_age_region.figure.savefig(os.path.join(path, '04 Analysis','Visualizations', 'bar_age_region.png'))"
   ]
  },
  {
   "cell_type": "code",
   "execution_count": 187,
   "id": "79213875",
   "metadata": {},
   "outputs": [
    {
     "data": {
      "text/html": [
       "<div>\n",
       "<style scoped>\n",
       "    .dataframe tbody tr th:only-of-type {\n",
       "        vertical-align: middle;\n",
       "    }\n",
       "\n",
       "    .dataframe tbody tr th {\n",
       "        vertical-align: top;\n",
       "    }\n",
       "\n",
       "    .dataframe thead th {\n",
       "        text-align: right;\n",
       "    }\n",
       "</style>\n",
       "<table border=\"1\" class=\"dataframe\">\n",
       "  <thead>\n",
       "    <tr style=\"text-align: right;\">\n",
       "      <th>age_group_flag</th>\n",
       "      <th>Middle aged</th>\n",
       "      <th>Senior</th>\n",
       "      <th>Young</th>\n",
       "    </tr>\n",
       "    <tr>\n",
       "      <th>region</th>\n",
       "      <th></th>\n",
       "      <th></th>\n",
       "      <th></th>\n",
       "    </tr>\n",
       "  </thead>\n",
       "  <tbody>\n",
       "    <tr>\n",
       "      <th>Midwest</th>\n",
       "      <td>2438149</td>\n",
       "      <td>2455443</td>\n",
       "      <td>2367921</td>\n",
       "    </tr>\n",
       "    <tr>\n",
       "      <th>Northeast</th>\n",
       "      <td>1796040</td>\n",
       "      <td>1884229</td>\n",
       "      <td>1784416</td>\n",
       "    </tr>\n",
       "    <tr>\n",
       "      <th>South</th>\n",
       "      <td>3343450</td>\n",
       "      <td>3521421</td>\n",
       "      <td>3446268</td>\n",
       "    </tr>\n",
       "    <tr>\n",
       "      <th>West</th>\n",
       "      <td>2632559</td>\n",
       "      <td>2713411</td>\n",
       "      <td>2581257</td>\n",
       "    </tr>\n",
       "  </tbody>\n",
       "</table>\n",
       "</div>"
      ],
      "text/plain": [
       "age_group_flag  Middle aged   Senior    Young\n",
       "region                                       \n",
       "Midwest             2438149  2455443  2367921\n",
       "Northeast           1796040  1884229  1784416\n",
       "South               3343450  3521421  3446268\n",
       "West                2632559  2713411  2581257"
      ]
     },
     "execution_count": 187,
     "metadata": {},
     "output_type": "execute_result"
    }
   ],
   "source": [
    "crosstab_age_region"
   ]
  },
  {
   "cell_type": "code",
   "execution_count": 190,
   "id": "d51f37be",
   "metadata": {},
   "outputs": [],
   "source": [
    "#crosstab on depen_group_flag and region\n",
    "crosstab_fam_size_region = pd.crosstab (customer_profiling_df['region'], customer_profiling_df['depen_group_flag'], dropna = False)"
   ]
  },
  {
   "cell_type": "code",
   "execution_count": 191,
   "id": "552d3ed5",
   "metadata": {},
   "outputs": [
    {
     "data": {
      "text/plain": [
       "<matplotlib.legend.Legend at 0x2a75c03cbe0>"
      ]
     },
     "execution_count": 191,
     "metadata": {},
     "output_type": "execute_result"
    },
    {
     "data": {
      "image/png": "[encoded data removed]",
      "text/plain": [
       "<Figure size 640x480 with 1 Axes>"
      ]
     },
     "metadata": {},
     "output_type": "display_data"
    }
   ],
   "source": [
    "bar_fam_size_region = crosstab_fam_size_region.plot(kind='bar' , title = 'Customer distribution in the region based on family size' , ylabel = 'amount')\n",
    "plt.legend(title='Customer family size')\n"
   ]
  },
  {
   "cell_type": "code",
   "execution_count": 220,
   "id": "02b48f40",
   "metadata": {},
   "outputs": [],
   "source": [
    "# Exporting plot\n",
    "\n",
    "bar_fam_size_region.figure.savefig(os.path.join(path, '04 Analysis','Visualizations', 'bar_fam_size_region.png'))"
   ]
  },
  {
   "cell_type": "code",
   "execution_count": 192,
   "id": "36ea330c",
   "metadata": {},
   "outputs": [
    {
     "data": {
      "text/html": [
       "<div>\n",
       "<style scoped>\n",
       "    .dataframe tbody tr th:only-of-type {\n",
       "        vertical-align: middle;\n",
       "    }\n",
       "\n",
       "    .dataframe tbody tr th {\n",
       "        vertical-align: top;\n",
       "    }\n",
       "\n",
       "    .dataframe thead th {\n",
       "        text-align: right;\n",
       "    }\n",
       "</style>\n",
       "<table border=\"1\" class=\"dataframe\">\n",
       "  <thead>\n",
       "    <tr style=\"text-align: right;\">\n",
       "      <th>depen_group_flag</th>\n",
       "      <th>Large</th>\n",
       "      <th>Mid</th>\n",
       "      <th>Small</th>\n",
       "    </tr>\n",
       "    <tr>\n",
       "      <th>region</th>\n",
       "      <th></th>\n",
       "      <th></th>\n",
       "      <th></th>\n",
       "    </tr>\n",
       "  </thead>\n",
       "  <tbody>\n",
       "    <tr>\n",
       "      <th>Midwest</th>\n",
       "      <td>1787286</td>\n",
       "      <td>3651411</td>\n",
       "      <td>1822816</td>\n",
       "    </tr>\n",
       "    <tr>\n",
       "      <th>Northeast</th>\n",
       "      <td>1381233</td>\n",
       "      <td>2728970</td>\n",
       "      <td>1354482</td>\n",
       "    </tr>\n",
       "    <tr>\n",
       "      <th>South</th>\n",
       "      <td>2585864</td>\n",
       "      <td>5143342</td>\n",
       "      <td>2581933</td>\n",
       "    </tr>\n",
       "    <tr>\n",
       "      <th>West</th>\n",
       "      <td>2018133</td>\n",
       "      <td>3928644</td>\n",
       "      <td>1980450</td>\n",
       "    </tr>\n",
       "  </tbody>\n",
       "</table>\n",
       "</div>"
      ],
      "text/plain": [
       "depen_group_flag    Large      Mid    Small\n",
       "region                                     \n",
       "Midwest           1787286  3651411  1822816\n",
       "Northeast         1381233  2728970  1354482\n",
       "South             2585864  5143342  2581933\n",
       "West              2018133  3928644  1980450"
      ]
     },
     "execution_count": 192,
     "metadata": {},
     "output_type": "execute_result"
    }
   ],
   "source": [
    "crosstab_fam_size_region"
   ]
  },
  {
   "cell_type": "markdown",
   "id": "8e1bb31f",
   "metadata": {},
   "source": [
    "##### The south region has the highest rank based on each type of customer profiling, the Northeast region also has the lowest rank."
   ]
  },
  {
   "cell_type": "code",
   "execution_count": 196,
   "id": "4483b205",
   "metadata": {},
   "outputs": [],
   "source": [
    "#crosstab on income_group_flag and department\n",
    "crosstab_income_department = pd.crosstab (customer_profiling_df['department'], customer_profiling_df['income_group_flag'], dropna = False)"
   ]
  },
  {
   "cell_type": "code",
   "execution_count": null,
   "id": "b6a81471",
   "metadata": {},
   "outputs": [],
   "source": [
    "bar_income_department = crosstab_income_department.plot(kind='bar' , title = 'Customer distribution in the departments based on income' , ylabel = 'amount', color = ['gray' , 'blue' , 'red'])\n",
    "plt.legend(title='Customer income')"
   ]
  },
  {
   "cell_type": "code",
   "execution_count": 221,
   "id": "498287d1",
   "metadata": {},
   "outputs": [],
   "source": [
    "# Exporting plot\n",
    "\n",
    "bar_income_department.figure.savefig(os.path.join(path, '04 Analysis','Visualizations', 'bar_income_department.png'))"
   ]
  },
  {
   "cell_type": "code",
   "execution_count": 199,
   "id": "93e2b594",
   "metadata": {},
   "outputs": [
    {
     "data": {
      "text/html": [
       "<div>\n",
       "<style scoped>\n",
       "    .dataframe tbody tr th:only-of-type {\n",
       "        vertical-align: middle;\n",
       "    }\n",
       "\n",
       "    .dataframe tbody tr th {\n",
       "        vertical-align: top;\n",
       "    }\n",
       "\n",
       "    .dataframe thead th {\n",
       "        text-align: right;\n",
       "    }\n",
       "</style>\n",
       "<table border=\"1\" class=\"dataframe\">\n",
       "  <thead>\n",
       "    <tr style=\"text-align: right;\">\n",
       "      <th>income_group_flag</th>\n",
       "      <th>High</th>\n",
       "      <th>Low</th>\n",
       "      <th>Middle</th>\n",
       "    </tr>\n",
       "    <tr>\n",
       "      <th>department</th>\n",
       "      <th></th>\n",
       "      <th></th>\n",
       "      <th></th>\n",
       "    </tr>\n",
       "  </thead>\n",
       "  <tbody>\n",
       "    <tr>\n",
       "      <th>alcohol</th>\n",
       "      <td>24067</td>\n",
       "      <td>28592</td>\n",
       "      <td>91968</td>\n",
       "    </tr>\n",
       "    <tr>\n",
       "      <th>babies</th>\n",
       "      <td>53001</td>\n",
       "      <td>57246</td>\n",
       "      <td>300145</td>\n",
       "    </tr>\n",
       "    <tr>\n",
       "      <th>bakery</th>\n",
       "      <td>148444</td>\n",
       "      <td>192127</td>\n",
       "      <td>780257</td>\n",
       "    </tr>\n",
       "    <tr>\n",
       "      <th>beverages</th>\n",
       "      <td>313379</td>\n",
       "      <td>594583</td>\n",
       "      <td>1663939</td>\n",
       "    </tr>\n",
       "    <tr>\n",
       "      <th>breakfast</th>\n",
       "      <td>83422</td>\n",
       "      <td>146969</td>\n",
       "      <td>440459</td>\n",
       "    </tr>\n",
       "    <tr>\n",
       "      <th>bulk</th>\n",
       "      <td>3671</td>\n",
       "      <td>7300</td>\n",
       "      <td>22480</td>\n",
       "    </tr>\n",
       "    <tr>\n",
       "      <th>canned goods</th>\n",
       "      <td>132414</td>\n",
       "      <td>156173</td>\n",
       "      <td>723487</td>\n",
       "    </tr>\n",
       "    <tr>\n",
       "      <th>dairy eggs</th>\n",
       "      <td>659249</td>\n",
       "      <td>902958</td>\n",
       "      <td>3614975</td>\n",
       "    </tr>\n",
       "    <tr>\n",
       "      <th>deli</th>\n",
       "      <td>125893</td>\n",
       "      <td>185277</td>\n",
       "      <td>692664</td>\n",
       "    </tr>\n",
       "    <tr>\n",
       "      <th>dry goods pasta</th>\n",
       "      <td>106350</td>\n",
       "      <td>126526</td>\n",
       "      <td>589260</td>\n",
       "    </tr>\n",
       "    <tr>\n",
       "      <th>frozen</th>\n",
       "      <td>276434</td>\n",
       "      <td>379069</td>\n",
       "      <td>1466228</td>\n",
       "    </tr>\n",
       "    <tr>\n",
       "      <th>household</th>\n",
       "      <td>92680</td>\n",
       "      <td>141814</td>\n",
       "      <td>465363</td>\n",
       "    </tr>\n",
       "    <tr>\n",
       "      <th>international</th>\n",
       "      <td>32824</td>\n",
       "      <td>41322</td>\n",
       "      <td>181845</td>\n",
       "    </tr>\n",
       "    <tr>\n",
       "      <th>meat seafood</th>\n",
       "      <td>91522</td>\n",
       "      <td>81936</td>\n",
       "      <td>501323</td>\n",
       "    </tr>\n",
       "    <tr>\n",
       "      <th>missing</th>\n",
       "      <td>8255</td>\n",
       "      <td>11777</td>\n",
       "      <td>44736</td>\n",
       "    </tr>\n",
       "    <tr>\n",
       "      <th>other</th>\n",
       "      <td>4554</td>\n",
       "      <td>6538</td>\n",
       "      <td>23319</td>\n",
       "    </tr>\n",
       "    <tr>\n",
       "      <th>pantry</th>\n",
       "      <td>231937</td>\n",
       "      <td>303661</td>\n",
       "      <td>1247107</td>\n",
       "    </tr>\n",
       "    <tr>\n",
       "      <th>personal care</th>\n",
       "      <td>53531</td>\n",
       "      <td>81407</td>\n",
       "      <td>289368</td>\n",
       "    </tr>\n",
       "    <tr>\n",
       "      <th>pets</th>\n",
       "      <td>12991</td>\n",
       "      <td>15426</td>\n",
       "      <td>64643</td>\n",
       "    </tr>\n",
       "    <tr>\n",
       "      <th>produce</th>\n",
       "      <td>1134852</td>\n",
       "      <td>1533176</td>\n",
       "      <td>6411245</td>\n",
       "    </tr>\n",
       "    <tr>\n",
       "      <th>snacks</th>\n",
       "      <td>305805</td>\n",
       "      <td>808873</td>\n",
       "      <td>1651728</td>\n",
       "    </tr>\n",
       "  </tbody>\n",
       "</table>\n",
       "</div>"
      ],
      "text/plain": [
       "income_group_flag     High      Low   Middle\n",
       "department                                  \n",
       "alcohol              24067    28592    91968\n",
       "babies               53001    57246   300145\n",
       "bakery              148444   192127   780257\n",
       "beverages           313379   594583  1663939\n",
       "breakfast            83422   146969   440459\n",
       "bulk                  3671     7300    22480\n",
       "canned goods        132414   156173   723487\n",
       "dairy eggs          659249   902958  3614975\n",
       "deli                125893   185277   692664\n",
       "dry goods pasta     106350   126526   589260\n",
       "frozen              276434   379069  1466228\n",
       "household            92680   141814   465363\n",
       "international        32824    41322   181845\n",
       "meat seafood         91522    81936   501323\n",
       "missing               8255    11777    44736\n",
       "other                 4554     6538    23319\n",
       "pantry              231937   303661  1247107\n",
       "personal care        53531    81407   289368\n",
       "pets                 12991    15426    64643\n",
       "produce            1134852  1533176  6411245\n",
       "snacks              305805   808873  1651728"
      ]
     },
     "execution_count": 199,
     "metadata": {},
     "output_type": "execute_result"
    }
   ],
   "source": [
    "crosstab_income_department"
   ]
  },
  {
   "cell_type": "code",
   "execution_count": 201,
   "id": "44b5b285",
   "metadata": {},
   "outputs": [],
   "source": [
    "#crosstab on age_group_flag and department\n",
    "crosstab_age_department = pd.crosstab (customer_profiling_df['department'], customer_profiling_df['age_group_flag'], dropna = False)"
   ]
  },
  {
   "cell_type": "code",
   "execution_count": 208,
   "id": "45004f77",
   "metadata": {},
   "outputs": [
    {
     "data": {
      "text/plain": [
       "<matplotlib.legend.Legend at 0x2a75cd4a580>"
      ]
     },
     "execution_count": 208,
     "metadata": {},
     "output_type": "execute_result"
    },
    {
     "data": {
      "image/png": "[encoded data removed]",
      "text/plain": [
       "<Figure size 640x480 with 1 Axes>"
      ]
     },
     "metadata": {},
     "output_type": "display_data"
    }
   ],
   "source": [
    "bar_age_department = crosstab_age_department.plot(kind='bar' , title = 'Customer distribution in the department based on age groups' , ylabel = 'amount', color = ['gray' , 'blue' , 'red'])\n",
    "plt.legend(title='Customer age group')\n"
   ]
  },
  {
   "cell_type": "code",
   "execution_count": 222,
   "id": "39852df6",
   "metadata": {},
   "outputs": [],
   "source": [
    "# Exporting plot\n",
    "\n",
    "bar_age_department.figure.savefig(os.path.join(path, '04 Analysis','Visualizations', 'bar_age_department.png'))"
   ]
  },
  {
   "cell_type": "code",
   "execution_count": 203,
   "id": "c51eefdf",
   "metadata": {},
   "outputs": [
    {
     "data": {
      "text/html": [
       "<div>\n",
       "<style scoped>\n",
       "    .dataframe tbody tr th:only-of-type {\n",
       "        vertical-align: middle;\n",
       "    }\n",
       "\n",
       "    .dataframe tbody tr th {\n",
       "        vertical-align: top;\n",
       "    }\n",
       "\n",
       "    .dataframe thead th {\n",
       "        text-align: right;\n",
       "    }\n",
       "</style>\n",
       "<table border=\"1\" class=\"dataframe\">\n",
       "  <thead>\n",
       "    <tr style=\"text-align: right;\">\n",
       "      <th>age_group_flag</th>\n",
       "      <th>Middle aged</th>\n",
       "      <th>Senior</th>\n",
       "      <th>Young</th>\n",
       "    </tr>\n",
       "    <tr>\n",
       "      <th>department</th>\n",
       "      <th></th>\n",
       "      <th></th>\n",
       "      <th></th>\n",
       "    </tr>\n",
       "  </thead>\n",
       "  <tbody>\n",
       "    <tr>\n",
       "      <th>alcohol</th>\n",
       "      <td>48078</td>\n",
       "      <td>47596</td>\n",
       "      <td>48953</td>\n",
       "    </tr>\n",
       "    <tr>\n",
       "      <th>babies</th>\n",
       "      <td>137830</td>\n",
       "      <td>138738</td>\n",
       "      <td>133824</td>\n",
       "    </tr>\n",
       "    <tr>\n",
       "      <th>bakery</th>\n",
       "      <td>369488</td>\n",
       "      <td>382446</td>\n",
       "      <td>368894</td>\n",
       "    </tr>\n",
       "    <tr>\n",
       "      <th>beverages</th>\n",
       "      <td>851739</td>\n",
       "      <td>883669</td>\n",
       "      <td>836493</td>\n",
       "    </tr>\n",
       "    <tr>\n",
       "      <th>breakfast</th>\n",
       "      <td>221249</td>\n",
       "      <td>227751</td>\n",
       "      <td>221850</td>\n",
       "    </tr>\n",
       "    <tr>\n",
       "      <th>bulk</th>\n",
       "      <td>10847</td>\n",
       "      <td>11424</td>\n",
       "      <td>11180</td>\n",
       "    </tr>\n",
       "    <tr>\n",
       "      <th>canned goods</th>\n",
       "      <td>334039</td>\n",
       "      <td>344447</td>\n",
       "      <td>333588</td>\n",
       "    </tr>\n",
       "    <tr>\n",
       "      <th>dairy eggs</th>\n",
       "      <td>1702954</td>\n",
       "      <td>1762512</td>\n",
       "      <td>1711716</td>\n",
       "    </tr>\n",
       "    <tr>\n",
       "      <th>deli</th>\n",
       "      <td>330004</td>\n",
       "      <td>343335</td>\n",
       "      <td>330495</td>\n",
       "    </tr>\n",
       "    <tr>\n",
       "      <th>dry goods pasta</th>\n",
       "      <td>271819</td>\n",
       "      <td>280102</td>\n",
       "      <td>270215</td>\n",
       "    </tr>\n",
       "    <tr>\n",
       "      <th>frozen</th>\n",
       "      <td>699252</td>\n",
       "      <td>728963</td>\n",
       "      <td>693516</td>\n",
       "    </tr>\n",
       "    <tr>\n",
       "      <th>household</th>\n",
       "      <td>231302</td>\n",
       "      <td>240635</td>\n",
       "      <td>227920</td>\n",
       "    </tr>\n",
       "    <tr>\n",
       "      <th>international</th>\n",
       "      <td>84532</td>\n",
       "      <td>86448</td>\n",
       "      <td>85011</td>\n",
       "    </tr>\n",
       "    <tr>\n",
       "      <th>meat seafood</th>\n",
       "      <td>221507</td>\n",
       "      <td>232752</td>\n",
       "      <td>220522</td>\n",
       "    </tr>\n",
       "    <tr>\n",
       "      <th>missing</th>\n",
       "      <td>21435</td>\n",
       "      <td>21787</td>\n",
       "      <td>21546</td>\n",
       "    </tr>\n",
       "    <tr>\n",
       "      <th>other</th>\n",
       "      <td>11220</td>\n",
       "      <td>11604</td>\n",
       "      <td>11587</td>\n",
       "    </tr>\n",
       "    <tr>\n",
       "      <th>pantry</th>\n",
       "      <td>588507</td>\n",
       "      <td>609961</td>\n",
       "      <td>584237</td>\n",
       "    </tr>\n",
       "    <tr>\n",
       "      <th>personal care</th>\n",
       "      <td>142343</td>\n",
       "      <td>143728</td>\n",
       "      <td>138235</td>\n",
       "    </tr>\n",
       "    <tr>\n",
       "      <th>pets</th>\n",
       "      <td>30685</td>\n",
       "      <td>31755</td>\n",
       "      <td>30620</td>\n",
       "    </tr>\n",
       "    <tr>\n",
       "      <th>produce</th>\n",
       "      <td>2990225</td>\n",
       "      <td>3104118</td>\n",
       "      <td>2984930</td>\n",
       "    </tr>\n",
       "    <tr>\n",
       "      <th>snacks</th>\n",
       "      <td>911143</td>\n",
       "      <td>940733</td>\n",
       "      <td>914530</td>\n",
       "    </tr>\n",
       "  </tbody>\n",
       "</table>\n",
       "</div>"
      ],
      "text/plain": [
       "age_group_flag   Middle aged   Senior    Young\n",
       "department                                    \n",
       "alcohol                48078    47596    48953\n",
       "babies                137830   138738   133824\n",
       "bakery                369488   382446   368894\n",
       "beverages             851739   883669   836493\n",
       "breakfast             221249   227751   221850\n",
       "bulk                   10847    11424    11180\n",
       "canned goods          334039   344447   333588\n",
       "dairy eggs           1702954  1762512  1711716\n",
       "deli                  330004   343335   330495\n",
       "dry goods pasta       271819   280102   270215\n",
       "frozen                699252   728963   693516\n",
       "household             231302   240635   227920\n",
       "international          84532    86448    85011\n",
       "meat seafood          221507   232752   220522\n",
       "missing                21435    21787    21546\n",
       "other                  11220    11604    11587\n",
       "pantry                588507   609961   584237\n",
       "personal care         142343   143728   138235\n",
       "pets                   30685    31755    30620\n",
       "produce              2990225  3104118  2984930\n",
       "snacks                911143   940733   914530"
      ]
     },
     "execution_count": 203,
     "metadata": {},
     "output_type": "execute_result"
    }
   ],
   "source": [
    "crosstab_age_department"
   ]
  },
  {
   "cell_type": "code",
   "execution_count": 204,
   "id": "17a603be",
   "metadata": {},
   "outputs": [],
   "source": [
    "#crosstab on depen_group_flag and region\n",
    "crosstab_fam_size_department = pd.crosstab (customer_profiling_df['department'], customer_profiling_df['depen_group_flag'], dropna = False)"
   ]
  },
  {
   "cell_type": "code",
   "execution_count": 209,
   "id": "90f64499",
   "metadata": {},
   "outputs": [
    {
     "data": {
      "text/plain": [
       "<matplotlib.legend.Legend at 0x2a75c6e7be0>"
      ]
     },
     "execution_count": 209,
     "metadata": {},
     "output_type": "execute_result"
    },
    {
     "data": {
      "image/png": "[encoded data removed]",
      "text/plain": [
       "<Figure size 640x480 with 1 Axes>"
      ]
     },
     "metadata": {},
     "output_type": "display_data"
    }
   ],
   "source": [
    "bar_fam_size_department = crosstab_fam_size_department.plot(kind='bar' , title = 'Customer distribution in the department based on family size' , ylabel = 'amount', color = ['gray' , 'blue' , 'red'])\n",
    "plt.legend(title='Customer family size')"
   ]
  },
  {
   "cell_type": "code",
   "execution_count": 223,
   "id": "1ae47604",
   "metadata": {},
   "outputs": [],
   "source": [
    "# Exporting plot\n",
    "\n",
    "bar_fam_size_department.figure.savefig(os.path.join(path, '04 Analysis','Visualizations', 'bar_fam_size_department.png'))"
   ]
  },
  {
   "cell_type": "code",
   "execution_count": 210,
   "id": "4dbe27aa",
   "metadata": {},
   "outputs": [
    {
     "data": {
      "text/html": [
       "<div>\n",
       "<style scoped>\n",
       "    .dataframe tbody tr th:only-of-type {\n",
       "        vertical-align: middle;\n",
       "    }\n",
       "\n",
       "    .dataframe tbody tr th {\n",
       "        vertical-align: top;\n",
       "    }\n",
       "\n",
       "    .dataframe thead th {\n",
       "        text-align: right;\n",
       "    }\n",
       "</style>\n",
       "<table border=\"1\" class=\"dataframe\">\n",
       "  <thead>\n",
       "    <tr style=\"text-align: right;\">\n",
       "      <th>depen_group_flag</th>\n",
       "      <th>Large</th>\n",
       "      <th>Mid</th>\n",
       "      <th>Small</th>\n",
       "    </tr>\n",
       "    <tr>\n",
       "      <th>department</th>\n",
       "      <th></th>\n",
       "      <th></th>\n",
       "      <th></th>\n",
       "    </tr>\n",
       "  </thead>\n",
       "  <tbody>\n",
       "    <tr>\n",
       "      <th>alcohol</th>\n",
       "      <td>37333</td>\n",
       "      <td>70467</td>\n",
       "      <td>36827</td>\n",
       "    </tr>\n",
       "    <tr>\n",
       "      <th>babies</th>\n",
       "      <td>102585</td>\n",
       "      <td>204479</td>\n",
       "      <td>103328</td>\n",
       "    </tr>\n",
       "    <tr>\n",
       "      <th>bakery</th>\n",
       "      <td>279822</td>\n",
       "      <td>559611</td>\n",
       "      <td>281395</td>\n",
       "    </tr>\n",
       "    <tr>\n",
       "      <th>beverages</th>\n",
       "      <td>640927</td>\n",
       "      <td>1285633</td>\n",
       "      <td>645341</td>\n",
       "    </tr>\n",
       "    <tr>\n",
       "      <th>breakfast</th>\n",
       "      <td>167322</td>\n",
       "      <td>337096</td>\n",
       "      <td>166432</td>\n",
       "    </tr>\n",
       "    <tr>\n",
       "      <th>bulk</th>\n",
       "      <td>8403</td>\n",
       "      <td>17048</td>\n",
       "      <td>8000</td>\n",
       "    </tr>\n",
       "    <tr>\n",
       "      <th>canned goods</th>\n",
       "      <td>255325</td>\n",
       "      <td>505729</td>\n",
       "      <td>251020</td>\n",
       "    </tr>\n",
       "    <tr>\n",
       "      <th>dairy eggs</th>\n",
       "      <td>1296264</td>\n",
       "      <td>2586542</td>\n",
       "      <td>1294376</td>\n",
       "    </tr>\n",
       "    <tr>\n",
       "      <th>deli</th>\n",
       "      <td>252592</td>\n",
       "      <td>497860</td>\n",
       "      <td>253382</td>\n",
       "    </tr>\n",
       "    <tr>\n",
       "      <th>dry goods pasta</th>\n",
       "      <td>208412</td>\n",
       "      <td>409428</td>\n",
       "      <td>204296</td>\n",
       "    </tr>\n",
       "    <tr>\n",
       "      <th>frozen</th>\n",
       "      <td>532408</td>\n",
       "      <td>1059975</td>\n",
       "      <td>529348</td>\n",
       "    </tr>\n",
       "    <tr>\n",
       "      <th>household</th>\n",
       "      <td>176284</td>\n",
       "      <td>352215</td>\n",
       "      <td>171358</td>\n",
       "    </tr>\n",
       "    <tr>\n",
       "      <th>international</th>\n",
       "      <td>63473</td>\n",
       "      <td>128057</td>\n",
       "      <td>64461</td>\n",
       "    </tr>\n",
       "    <tr>\n",
       "      <th>meat seafood</th>\n",
       "      <td>171423</td>\n",
       "      <td>337480</td>\n",
       "      <td>165878</td>\n",
       "    </tr>\n",
       "    <tr>\n",
       "      <th>missing</th>\n",
       "      <td>16435</td>\n",
       "      <td>32398</td>\n",
       "      <td>15935</td>\n",
       "    </tr>\n",
       "    <tr>\n",
       "      <th>other</th>\n",
       "      <td>8377</td>\n",
       "      <td>17320</td>\n",
       "      <td>8714</td>\n",
       "    </tr>\n",
       "    <tr>\n",
       "      <th>pantry</th>\n",
       "      <td>446156</td>\n",
       "      <td>892645</td>\n",
       "      <td>443904</td>\n",
       "    </tr>\n",
       "    <tr>\n",
       "      <th>personal care</th>\n",
       "      <td>106315</td>\n",
       "      <td>211786</td>\n",
       "      <td>106205</td>\n",
       "    </tr>\n",
       "    <tr>\n",
       "      <th>pets</th>\n",
       "      <td>23142</td>\n",
       "      <td>46316</td>\n",
       "      <td>23602</td>\n",
       "    </tr>\n",
       "    <tr>\n",
       "      <th>produce</th>\n",
       "      <td>2287719</td>\n",
       "      <td>4516113</td>\n",
       "      <td>2275441</td>\n",
       "    </tr>\n",
       "    <tr>\n",
       "      <th>snacks</th>\n",
       "      <td>691799</td>\n",
       "      <td>1384169</td>\n",
       "      <td>690438</td>\n",
       "    </tr>\n",
       "  </tbody>\n",
       "</table>\n",
       "</div>"
      ],
      "text/plain": [
       "depen_group_flag    Large      Mid    Small\n",
       "department                                 \n",
       "alcohol             37333    70467    36827\n",
       "babies             102585   204479   103328\n",
       "bakery             279822   559611   281395\n",
       "beverages          640927  1285633   645341\n",
       "breakfast          167322   337096   166432\n",
       "bulk                 8403    17048     8000\n",
       "canned goods       255325   505729   251020\n",
       "dairy eggs        1296264  2586542  1294376\n",
       "deli               252592   497860   253382\n",
       "dry goods pasta    208412   409428   204296\n",
       "frozen             532408  1059975   529348\n",
       "household          176284   352215   171358\n",
       "international       63473   128057    64461\n",
       "meat seafood       171423   337480   165878\n",
       "missing             16435    32398    15935\n",
       "other                8377    17320     8714\n",
       "pantry             446156   892645   443904\n",
       "personal care      106315   211786   106205\n",
       "pets                23142    46316    23602\n",
       "produce           2287719  4516113  2275441\n",
       "snacks             691799  1384169   690438"
      ]
     },
     "execution_count": 210,
     "metadata": {},
     "output_type": "execute_result"
    }
   ],
   "source": [
    "crosstab_fam_size_department"
   ]
  },
  {
   "cell_type": "markdown",
   "id": "273c31d1",
   "metadata": {},
   "source": [
    "##### The produce department has the highest rank of order based on each type of customer profiling, the bulk department also has the lowest rank of order."
   ]
  },
  {
   "cell_type": "code",
   "execution_count": 52,
   "id": "3dcb9534",
   "metadata": {},
   "outputs": [],
   "source": [
    "# Exporting customer_profiling_df\n",
    "customer_profiling_df.to_pickle(os.path.join(path, '02 Data','Prepared Data', 'customer_profiling_df.pkl'))"
   ]
  },
  {
   "cell_type": "code",
   "execution_count": null,
   "id": "c05784d1",
   "metadata": {},
   "outputs": [],
   "source": []
  }
 ],
 "metadata": {
  "kernelspec": {
   "display_name": "Python 3 (ipykernel)",
   "language": "python",
   "name": "python3"
  },
  "language_info": {
   "codemirror_mode": {
    "name": "ipython",
    "version": 3
   },
   "file_extension": ".py",
   "mimetype": "text/x-python",
   "name": "python",
   "nbconvert_exporter": "python",
   "pygments_lexer": "ipython3",
   "version": "3.9.13"
  }
 },
 "nbformat": 4,
 "nbformat_minor": 5
}
