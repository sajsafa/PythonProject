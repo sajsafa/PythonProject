{
 "cells": [
  {
   "cell_type": "markdown",
   "id": "c9fff51e",
   "metadata": {},
   "source": [
    "# Section One\n",
    "## Import Libraries"
   ]
  },
  {
   "cell_type": "code",
   "execution_count": 1,
   "id": "b8c55ba8",
   "metadata": {},
   "outputs": [],
   "source": [
    "# Import Libraries\n",
    "import pandas as pd\n",
    "import numpy as np\n",
    "import os"
   ]
  },
  {
   "cell_type": "markdown",
   "id": "9af37b04",
   "metadata": {},
   "source": [
    "# Section Two\n",
    "## Working with Python data types"
   ]
  },
  {
   "cell_type": "code",
   "execution_count": 3,
   "id": "69614adc",
   "metadata": {},
   "outputs": [],
   "source": [
    "x = 10\n",
    "y = 110\n",
    "z = 90"
   ]
  },
  {
   "cell_type": "code",
   "execution_count": 4,
   "id": "5f6831f5",
   "metadata": {},
   "outputs": [
    {
     "data": {
      "text/plain": [
       "(10, 110, 90)"
      ]
     },
     "execution_count": 4,
     "metadata": {},
     "output_type": "execute_result"
    }
   ],
   "source": [
    "x, y, z"
   ]
  },
  {
   "cell_type": "code",
   "execution_count": 5,
   "id": "8afd5f9c",
   "metadata": {},
   "outputs": [
    {
     "data": {
      "text/plain": [
       "100"
      ]
     },
     "execution_count": 5,
     "metadata": {},
     "output_type": "execute_result"
    }
   ],
   "source": [
    "x + z"
   ]
  },
  {
   "cell_type": "code",
   "execution_count": 6,
   "id": "dc477897",
   "metadata": {},
   "outputs": [
    {
     "data": {
      "text/plain": [
       "100"
      ]
     },
     "execution_count": 6,
     "metadata": {},
     "output_type": "execute_result"
    }
   ],
   "source": [
    "y - x"
   ]
  },
  {
   "cell_type": "code",
   "execution_count": 7,
   "id": "023129e9",
   "metadata": {},
   "outputs": [
    {
     "data": {
      "text/plain": [
       "100"
      ]
     },
     "execution_count": 7,
     "metadata": {},
     "output_type": "execute_result"
    }
   ],
   "source": [
    "(x + y + z) - y"
   ]
  },
  {
   "cell_type": "code",
   "execution_count": 10,
   "id": "2d209869",
   "metadata": {},
   "outputs": [],
   "source": [
    "a = 6.8\n",
    "b = 13.6\n",
    "c = 4.5"
   ]
  },
  {
   "cell_type": "code",
   "execution_count": 12,
   "id": "1390cc9a",
   "metadata": {},
   "outputs": [
    {
     "data": {
      "text/plain": [
       "(6.8, 13.6, 4.5)"
      ]
     },
     "execution_count": 12,
     "metadata": {},
     "output_type": "execute_result"
    }
   ],
   "source": [
    "a, b, c"
   ]
  },
  {
   "cell_type": "code",
   "execution_count": 13,
   "id": "0b41baa9",
   "metadata": {},
   "outputs": [
    {
     "data": {
      "text/plain": [
       "0.5"
      ]
     },
     "execution_count": 13,
     "metadata": {},
     "output_type": "execute_result"
    }
   ],
   "source": [
    "a / b"
   ]
  },
  {
   "cell_type": "code",
   "execution_count": 14,
   "id": "a8772b66",
   "metadata": {},
   "outputs": [
    {
     "data": {
      "text/plain": [
       "3.022222222222222"
      ]
     },
     "execution_count": 14,
     "metadata": {},
     "output_type": "execute_result"
    }
   ],
   "source": [
    "b / c"
   ]
  },
  {
   "cell_type": "code",
   "execution_count": 25,
   "id": "53f6978b",
   "metadata": {},
   "outputs": [],
   "source": [
    "d = 'career'\n",
    "e = 'foundry'"
   ]
  },
  {
   "cell_type": "code",
   "execution_count": 26,
   "id": "af8fe82f",
   "metadata": {},
   "outputs": [
    {
     "data": {
      "text/plain": [
       "('career', 'foundry')"
      ]
     },
     "execution_count": 26,
     "metadata": {},
     "output_type": "execute_result"
    }
   ],
   "source": [
    "d , e"
   ]
  },
  {
   "cell_type": "code",
   "execution_count": 27,
   "id": "08c5ff07",
   "metadata": {},
   "outputs": [
    {
     "data": {
      "text/plain": [
       "'careerfoundry'"
      ]
     },
     "execution_count": 27,
     "metadata": {},
     "output_type": "execute_result"
    }
   ],
   "source": [
    "d + e"
   ]
  },
  {
   "cell_type": "code",
   "execution_count": 28,
   "id": "60f68cf6",
   "metadata": {},
   "outputs": [],
   "source": [
    "f = 'Python is an easy to learn,' \n",
    "g = 'powerful programming language'"
   ]
  },
  {
   "cell_type": "code",
   "execution_count": 29,
   "id": "c80932fa",
   "metadata": {},
   "outputs": [
    {
     "data": {
      "text/plain": [
       "('Python is an easy to learn,', 'powerful programming language')"
      ]
     },
     "execution_count": 29,
     "metadata": {},
     "output_type": "execute_result"
    }
   ],
   "source": [
    "f, g"
   ]
  },
  {
   "cell_type": "code",
   "execution_count": 34,
   "id": "14f300de",
   "metadata": {},
   "outputs": [
    {
     "data": {
      "text/plain": [
       "'Python is an easy to learn,powerful programming language'"
      ]
     },
     "execution_count": 34,
     "metadata": {},
     "output_type": "execute_result"
    }
   ],
   "source": [
    "f +g"
   ]
  },
  {
   "cell_type": "code",
   "execution_count": 35,
   "id": "38941fc6",
   "metadata": {},
   "outputs": [],
   "source": [
    "h = 'It has efficient high-level data structures, '\n",
    "i =  'and simple'"
   ]
  },
  {
   "cell_type": "code",
   "execution_count": 36,
   "id": "9c741b81",
   "metadata": {},
   "outputs": [
    {
     "data": {
      "text/plain": [
       "('It has efficient high-level data structures, ', 'and simple')"
      ]
     },
     "execution_count": 36,
     "metadata": {},
     "output_type": "execute_result"
    }
   ],
   "source": [
    "h , i"
   ]
  },
  {
   "cell_type": "code",
   "execution_count": 37,
   "id": "d6a5e39d",
   "metadata": {},
   "outputs": [
    {
     "data": {
      "text/plain": [
       "'It has efficient high-level data structures, and simple'"
      ]
     },
     "execution_count": 37,
     "metadata": {},
     "output_type": "execute_result"
    }
   ],
   "source": [
    "h + i"
   ]
  },
  {
   "cell_type": "code",
   "execution_count": 42,
   "id": "88f51fca",
   "metadata": {},
   "outputs": [],
   "source": [
    "j = 'Hi, '"
   ]
  },
  {
   "cell_type": "code",
   "execution_count": 43,
   "id": "2347b420",
   "metadata": {},
   "outputs": [
    {
     "data": {
      "text/plain": [
       "'Hi, '"
      ]
     },
     "execution_count": 43,
     "metadata": {},
     "output_type": "execute_result"
    }
   ],
   "source": [
    "j"
   ]
  },
  {
   "cell_type": "code",
   "execution_count": 44,
   "id": "989df928",
   "metadata": {},
   "outputs": [
    {
     "data": {
      "text/plain": [
       "'Hi, Hi, Hi, Hi, Hi, Hi, Hi, Hi, Hi, Hi, Hi, Hi, Hi, Hi, Hi, Hi, Hi, Hi, Hi, Hi, Hi, Hi, Hi, Hi, Hi, Hi, Hi, Hi, Hi, Hi, Hi, Hi, Hi, Hi, Hi, Hi, Hi, Hi, Hi, Hi, Hi, Hi, Hi, Hi, Hi, Hi, Hi, Hi, Hi, Hi, Hi, Hi, Hi, Hi, Hi, Hi, Hi, Hi, Hi, Hi, Hi, Hi, Hi, Hi, Hi, Hi, Hi, Hi, Hi, Hi, Hi, Hi, Hi, Hi, Hi, Hi, Hi, Hi, Hi, Hi, Hi, Hi, Hi, Hi, Hi, Hi, Hi, Hi, Hi, Hi, Hi, Hi, Hi, Hi, Hi, Hi, Hi, Hi, Hi, Hi, '"
      ]
     },
     "execution_count": 44,
     "metadata": {},
     "output_type": "execute_result"
    }
   ],
   "source": [
    "j*100"
   ]
  },
  {
   "cell_type": "code",
   "execution_count": null,
   "id": "74aa1f4b",
   "metadata": {},
   "outputs": [],
   "source": []
  }
 ],
 "metadata": {
  "kernelspec": {
   "display_name": "Python 3 (ipykernel)",
   "language": "python",
   "name": "python3"
  },
  "language_info": {
   "codemirror_mode": {
    "name": "ipython",
    "version": 3
   },
   "file_extension": ".py",
   "mimetype": "text/x-python",
   "name": "python",
   "nbconvert_exporter": "python",
   "pygments_lexer": "ipython3",
   "version": "3.9.13"
  }
 },
 "nbformat": 4,
 "nbformat_minor": 5
}
